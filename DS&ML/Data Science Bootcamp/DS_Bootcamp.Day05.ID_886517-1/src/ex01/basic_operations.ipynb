{
 "cells": [
  {
   "cell_type": "markdown",
   "id": "44d81b9c",
   "metadata": {},
   "source": [
    "### Exercise 01 : Basic operations"
   ]
  },
  {
   "cell_type": "markdown",
   "id": "a084e5a1",
   "metadata": {},
   "source": [
    "* create a dataframe `views` with two columns: `datetime` and `user` by reading `feed-views.log`\n",
    "  * convert the `datetime` to the `datetime64[ns]` `Dtype`\n",
    "  * extract the year, month, day, hour, minute, and second from the values of that\n",
    "  column to the new columns"
   ]
  },
  {
   "cell_type": "code",
   "execution_count": 16,
   "id": "6ffc3f05",
   "metadata": {},
   "outputs": [
    {
     "data": {
      "text/html": [
       "<div>\n",
       "<style scoped>\n",
       "    .dataframe tbody tr th:only-of-type {\n",
       "        vertical-align: middle;\n",
       "    }\n",
       "\n",
       "    .dataframe tbody tr th {\n",
       "        vertical-align: top;\n",
       "    }\n",
       "\n",
       "    .dataframe thead th {\n",
       "        text-align: right;\n",
       "    }\n",
       "</style>\n",
       "<table border=\"1\" class=\"dataframe\">\n",
       "  <thead>\n",
       "    <tr style=\"text-align: right;\">\n",
       "      <th></th>\n",
       "      <th>datetime</th>\n",
       "      <th>user</th>\n",
       "      <th>year</th>\n",
       "      <th>month</th>\n",
       "      <th>day</th>\n",
       "      <th>hour</th>\n",
       "      <th>minute</th>\n",
       "      <th>second</th>\n",
       "    </tr>\n",
       "  </thead>\n",
       "  <tbody>\n",
       "    <tr>\n",
       "      <th>0</th>\n",
       "      <td>2020-04-17 12:01:08.463179</td>\n",
       "      <td>artem</td>\n",
       "      <td>2020</td>\n",
       "      <td>4</td>\n",
       "      <td>17</td>\n",
       "      <td>12</td>\n",
       "      <td>1</td>\n",
       "      <td>8</td>\n",
       "    </tr>\n",
       "    <tr>\n",
       "      <th>1</th>\n",
       "      <td>2020-04-17 12:01:23.743946</td>\n",
       "      <td>artem</td>\n",
       "      <td>2020</td>\n",
       "      <td>4</td>\n",
       "      <td>17</td>\n",
       "      <td>12</td>\n",
       "      <td>1</td>\n",
       "      <td>23</td>\n",
       "    </tr>\n",
       "    <tr>\n",
       "      <th>2</th>\n",
       "      <td>2020-04-17 12:27:30.646665</td>\n",
       "      <td>artem</td>\n",
       "      <td>2020</td>\n",
       "      <td>4</td>\n",
       "      <td>17</td>\n",
       "      <td>12</td>\n",
       "      <td>27</td>\n",
       "      <td>30</td>\n",
       "    </tr>\n",
       "    <tr>\n",
       "      <th>3</th>\n",
       "      <td>2020-04-17 12:35:44.884757</td>\n",
       "      <td>artem</td>\n",
       "      <td>2020</td>\n",
       "      <td>4</td>\n",
       "      <td>17</td>\n",
       "      <td>12</td>\n",
       "      <td>35</td>\n",
       "      <td>44</td>\n",
       "    </tr>\n",
       "    <tr>\n",
       "      <th>4</th>\n",
       "      <td>2020-04-17 12:35:52.735016</td>\n",
       "      <td>artem</td>\n",
       "      <td>2020</td>\n",
       "      <td>4</td>\n",
       "      <td>17</td>\n",
       "      <td>12</td>\n",
       "      <td>35</td>\n",
       "      <td>52</td>\n",
       "    </tr>\n",
       "  </tbody>\n",
       "</table>\n",
       "</div>"
      ],
      "text/plain": [
       "                    datetime   user  year  month  day  hour  minute  second\n",
       "0 2020-04-17 12:01:08.463179  artem  2020      4   17    12       1       8\n",
       "1 2020-04-17 12:01:23.743946  artem  2020      4   17    12       1      23\n",
       "2 2020-04-17 12:27:30.646665  artem  2020      4   17    12      27      30\n",
       "3 2020-04-17 12:35:44.884757  artem  2020      4   17    12      35      44\n",
       "4 2020-04-17 12:35:52.735016  artem  2020      4   17    12      35      52"
      ]
     },
     "execution_count": 16,
     "metadata": {},
     "output_type": "execute_result"
    }
   ],
   "source": [
    "import pandas as pd\n",
    "\n",
    "df = pd.read_csv(\"../data/feed-views.log\", names=[\"datetime\", \"user\"], parse_dates=[\"datetime\"], sep=\"\\t\", engine=\"python\")\n",
    "df[\"year\"] = df[\"datetime\"].dt.year\n",
    "df[\"month\"] = df[\"datetime\"].dt.month\n",
    "df[\"day\"] = df[\"datetime\"].dt.day\n",
    "df[\"hour\"] = df[\"datetime\"].dt.hour\n",
    "df[\"minute\"] = df[\"datetime\"].dt.minute\n",
    "df[\"second\"] = df[\"datetime\"].dt.second\n",
    "df.head()"
   ]
  },
  {
   "cell_type": "markdown",
   "id": "25891a39",
   "metadata": {},
   "source": [
    "* create the new column `daytime`\n",
    "  * you need to assign the particular time of day value if an hour is within a\n",
    "  particular interval, for example, afternoon if the hour is larger than `11` and\n",
    "  less or equal to `17`\n",
    "  * 0 – 3.59 `night`, 4 – 6.59 `early morning`, 7 – 10.59 `morning`, 11 – 16.59 `afternoon`, 17 – 19.59 `early evening`, 20 – 23.59 `evening`\n",
    "  * use the method `cut` to solve this subtask\n",
    "  * assign the column `user` as the index"
   ]
  },
  {
   "cell_type": "code",
   "execution_count": 17,
   "id": "bfeda665",
   "metadata": {},
   "outputs": [
    {
     "data": {
      "text/html": [
       "<div>\n",
       "<style scoped>\n",
       "    .dataframe tbody tr th:only-of-type {\n",
       "        vertical-align: middle;\n",
       "    }\n",
       "\n",
       "    .dataframe tbody tr th {\n",
       "        vertical-align: top;\n",
       "    }\n",
       "\n",
       "    .dataframe thead th {\n",
       "        text-align: right;\n",
       "    }\n",
       "</style>\n",
       "<table border=\"1\" class=\"dataframe\">\n",
       "  <thead>\n",
       "    <tr style=\"text-align: right;\">\n",
       "      <th></th>\n",
       "      <th>datetime</th>\n",
       "      <th>year</th>\n",
       "      <th>month</th>\n",
       "      <th>day</th>\n",
       "      <th>hour</th>\n",
       "      <th>minute</th>\n",
       "      <th>second</th>\n",
       "      <th>daytime</th>\n",
       "    </tr>\n",
       "    <tr>\n",
       "      <th>user</th>\n",
       "      <th></th>\n",
       "      <th></th>\n",
       "      <th></th>\n",
       "      <th></th>\n",
       "      <th></th>\n",
       "      <th></th>\n",
       "      <th></th>\n",
       "      <th></th>\n",
       "    </tr>\n",
       "  </thead>\n",
       "  <tbody>\n",
       "    <tr>\n",
       "      <th>artem</th>\n",
       "      <td>2020-04-17 12:01:08.463179</td>\n",
       "      <td>2020</td>\n",
       "      <td>4</td>\n",
       "      <td>17</td>\n",
       "      <td>12</td>\n",
       "      <td>1</td>\n",
       "      <td>8</td>\n",
       "      <td>afternoon</td>\n",
       "    </tr>\n",
       "    <tr>\n",
       "      <th>artem</th>\n",
       "      <td>2020-04-17 12:01:23.743946</td>\n",
       "      <td>2020</td>\n",
       "      <td>4</td>\n",
       "      <td>17</td>\n",
       "      <td>12</td>\n",
       "      <td>1</td>\n",
       "      <td>23</td>\n",
       "      <td>afternoon</td>\n",
       "    </tr>\n",
       "    <tr>\n",
       "      <th>artem</th>\n",
       "      <td>2020-04-17 12:27:30.646665</td>\n",
       "      <td>2020</td>\n",
       "      <td>4</td>\n",
       "      <td>17</td>\n",
       "      <td>12</td>\n",
       "      <td>27</td>\n",
       "      <td>30</td>\n",
       "      <td>afternoon</td>\n",
       "    </tr>\n",
       "    <tr>\n",
       "      <th>artem</th>\n",
       "      <td>2020-04-17 12:35:44.884757</td>\n",
       "      <td>2020</td>\n",
       "      <td>4</td>\n",
       "      <td>17</td>\n",
       "      <td>12</td>\n",
       "      <td>35</td>\n",
       "      <td>44</td>\n",
       "      <td>afternoon</td>\n",
       "    </tr>\n",
       "    <tr>\n",
       "      <th>artem</th>\n",
       "      <td>2020-04-17 12:35:52.735016</td>\n",
       "      <td>2020</td>\n",
       "      <td>4</td>\n",
       "      <td>17</td>\n",
       "      <td>12</td>\n",
       "      <td>35</td>\n",
       "      <td>52</td>\n",
       "      <td>afternoon</td>\n",
       "    </tr>\n",
       "  </tbody>\n",
       "</table>\n",
       "</div>"
      ],
      "text/plain": [
       "                        datetime  year  month  day  hour  minute  second  \\\n",
       "user                                                                       \n",
       "artem 2020-04-17 12:01:08.463179  2020      4   17    12       1       8   \n",
       "artem 2020-04-17 12:01:23.743946  2020      4   17    12       1      23   \n",
       "artem 2020-04-17 12:27:30.646665  2020      4   17    12      27      30   \n",
       "artem 2020-04-17 12:35:44.884757  2020      4   17    12      35      44   \n",
       "artem 2020-04-17 12:35:52.735016  2020      4   17    12      35      52   \n",
       "\n",
       "         daytime  \n",
       "user              \n",
       "artem  afternoon  \n",
       "artem  afternoon  \n",
       "artem  afternoon  \n",
       "artem  afternoon  \n",
       "artem  afternoon  "
      ]
     },
     "execution_count": 17,
     "metadata": {},
     "output_type": "execute_result"
    }
   ],
   "source": [
    "bins=[-1, 3, 6, 10, 16, 19, 23]\n",
    "labels=[\"night\", \"early morning\", \"morning\", \"afternoon\", \"early evening\", \"evening\"]\n",
    "df[\"daytime\"] = pd.cut(df[\"hour\"], bins=bins, labels=labels)\n",
    "df = df.set_index(\"user\")\n",
    "df.head()"
   ]
  },
  {
   "cell_type": "markdown",
   "id": "69af064b",
   "metadata": {},
   "source": [
    "* calculate the number of elements in your dataframe\n",
    "  * use the method `count()`\n",
    "  * calculate the number of elements in each time of day category using the method\n",
    "  `value_counts()`"
   ]
  },
  {
   "cell_type": "code",
   "execution_count": 18,
   "id": "f1fb582a",
   "metadata": {},
   "outputs": [
    {
     "name": "stdout",
     "output_type": "stream",
     "text": [
      "datetime    1076\n",
      "year        1076\n",
      "month       1076\n",
      "day         1076\n",
      "hour        1076\n",
      "minute      1076\n",
      "second      1076\n",
      "daytime     1076\n",
      "dtype: int64\n",
      "\n",
      "daytime\n",
      "evening          509\n",
      "afternoon        252\n",
      "early evening    145\n",
      "night            129\n",
      "morning           36\n",
      "early morning      5\n",
      "Name: count, dtype: int64\n"
     ]
    }
   ],
   "source": [
    "print(df.count())\n",
    "print()\n",
    "print(df[\"daytime\"].value_counts())"
   ]
  },
  {
   "cell_type": "markdown",
   "id": "be6bf2af",
   "metadata": {},
   "source": [
    "* sort values in your dataframe by hour, minute, and second in ascending order\n",
    "  (simultaneously and not one by one)"
   ]
  },
  {
   "cell_type": "code",
   "execution_count": 19,
   "id": "7d2dbc47",
   "metadata": {},
   "outputs": [
    {
     "data": {
      "text/html": [
       "<div>\n",
       "<style scoped>\n",
       "    .dataframe tbody tr th:only-of-type {\n",
       "        vertical-align: middle;\n",
       "    }\n",
       "\n",
       "    .dataframe tbody tr th {\n",
       "        vertical-align: top;\n",
       "    }\n",
       "\n",
       "    .dataframe thead th {\n",
       "        text-align: right;\n",
       "    }\n",
       "</style>\n",
       "<table border=\"1\" class=\"dataframe\">\n",
       "  <thead>\n",
       "    <tr style=\"text-align: right;\">\n",
       "      <th></th>\n",
       "      <th>datetime</th>\n",
       "      <th>year</th>\n",
       "      <th>month</th>\n",
       "      <th>day</th>\n",
       "      <th>hour</th>\n",
       "      <th>minute</th>\n",
       "      <th>second</th>\n",
       "      <th>daytime</th>\n",
       "    </tr>\n",
       "    <tr>\n",
       "      <th>user</th>\n",
       "      <th></th>\n",
       "      <th></th>\n",
       "      <th></th>\n",
       "      <th></th>\n",
       "      <th></th>\n",
       "      <th></th>\n",
       "      <th></th>\n",
       "      <th></th>\n",
       "    </tr>\n",
       "  </thead>\n",
       "  <tbody>\n",
       "    <tr>\n",
       "      <th>valentina</th>\n",
       "      <td>2020-05-15 00:00:13.222265</td>\n",
       "      <td>2020</td>\n",
       "      <td>5</td>\n",
       "      <td>15</td>\n",
       "      <td>0</td>\n",
       "      <td>0</td>\n",
       "      <td>13</td>\n",
       "      <td>night</td>\n",
       "    </tr>\n",
       "    <tr>\n",
       "      <th>valentina</th>\n",
       "      <td>2020-05-15 00:01:05.153738</td>\n",
       "      <td>2020</td>\n",
       "      <td>5</td>\n",
       "      <td>15</td>\n",
       "      <td>0</td>\n",
       "      <td>1</td>\n",
       "      <td>5</td>\n",
       "      <td>night</td>\n",
       "    </tr>\n",
       "    <tr>\n",
       "      <th>pavel</th>\n",
       "      <td>2020-05-12 00:01:27.764025</td>\n",
       "      <td>2020</td>\n",
       "      <td>5</td>\n",
       "      <td>12</td>\n",
       "      <td>0</td>\n",
       "      <td>1</td>\n",
       "      <td>27</td>\n",
       "      <td>night</td>\n",
       "    </tr>\n",
       "    <tr>\n",
       "      <th>pavel</th>\n",
       "      <td>2020-05-12 00:01:38.444917</td>\n",
       "      <td>2020</td>\n",
       "      <td>5</td>\n",
       "      <td>12</td>\n",
       "      <td>0</td>\n",
       "      <td>1</td>\n",
       "      <td>38</td>\n",
       "      <td>night</td>\n",
       "    </tr>\n",
       "    <tr>\n",
       "      <th>pavel</th>\n",
       "      <td>2020-05-12 00:01:55.395042</td>\n",
       "      <td>2020</td>\n",
       "      <td>5</td>\n",
       "      <td>12</td>\n",
       "      <td>0</td>\n",
       "      <td>1</td>\n",
       "      <td>55</td>\n",
       "      <td>night</td>\n",
       "    </tr>\n",
       "  </tbody>\n",
       "</table>\n",
       "</div>"
      ],
      "text/plain": [
       "                            datetime  year  month  day  hour  minute  second  \\\n",
       "user                                                                           \n",
       "valentina 2020-05-15 00:00:13.222265  2020      5   15     0       0      13   \n",
       "valentina 2020-05-15 00:01:05.153738  2020      5   15     0       1       5   \n",
       "pavel     2020-05-12 00:01:27.764025  2020      5   12     0       1      27   \n",
       "pavel     2020-05-12 00:01:38.444917  2020      5   12     0       1      38   \n",
       "pavel     2020-05-12 00:01:55.395042  2020      5   12     0       1      55   \n",
       "\n",
       "          daytime  \n",
       "user               \n",
       "valentina   night  \n",
       "valentina   night  \n",
       "pavel       night  \n",
       "pavel       night  \n",
       "pavel       night  "
      ]
     },
     "execution_count": 19,
     "metadata": {},
     "output_type": "execute_result"
    }
   ],
   "source": [
    "df = df.sort_values(by=[\"hour\", \"minute\", \"second\"], ascending=True)\n",
    "df.head()"
   ]
  },
  {
   "cell_type": "markdown",
   "id": "03a866c0",
   "metadata": {},
   "source": [
    "* calculate the minimum and maximum for the hours and the mode for the daytime\n",
    "  categories"
   ]
  },
  {
   "cell_type": "code",
   "execution_count": 20,
   "id": "20426b2e",
   "metadata": {},
   "outputs": [
    {
     "name": "stdout",
     "output_type": "stream",
     "text": [
      "Minimum for the hours: 0.\n",
      "Maximum for the hours: 23.\n",
      "Mode for the daytime categories: evening.\n"
     ]
    }
   ],
   "source": [
    "min_hour = df[\"hour\"].min()\n",
    "max_hour = df[\"hour\"].max()\n",
    "mode_daytime = df[\"daytime\"].mode()[0]\n",
    "print(f\"Minimum for the hours: {min_hour}.\\nMaximum for the hours: {max_hour}.\\nMode for the daytime categories: {mode_daytime}.\")"
   ]
  },
  {
   "cell_type": "markdown",
   "id": "bf5afa6c",
   "metadata": {},
   "source": [
    "* calculate the maximum of hour for the rows where the time of day is night"
   ]
  },
  {
   "cell_type": "code",
   "execution_count": 21,
   "id": "fc925257",
   "metadata": {},
   "outputs": [
    {
     "name": "stdout",
     "output_type": "stream",
     "text": [
      "3\n"
     ]
    }
   ],
   "source": [
    "max_night_hour = df.loc[df[\"daytime\"] == \"night\", \"hour\"].max()\n",
    "print(max_night_hour)"
   ]
  },
  {
   "cell_type": "markdown",
   "id": "4fcede69",
   "metadata": {},
   "source": [
    "* calculate the minimum of hour for the rows where the time of day is morning"
   ]
  },
  {
   "cell_type": "code",
   "execution_count": 22,
   "id": "96761f7a",
   "metadata": {},
   "outputs": [
    {
     "name": "stdout",
     "output_type": "stream",
     "text": [
      "8\n"
     ]
    }
   ],
   "source": [
    "min_morning_hour = df.loc[df[\"daytime\"] == \"morning\", \"hour\"].min()\n",
    "print(min_morning_hour)"
   ]
  },
  {
   "cell_type": "markdown",
   "id": "daea9214",
   "metadata": {},
   "source": [
    " * In addition to this, find out who visited the page at those hours (make one\n",
    "  example from that)\n",
    "  "
   ]
  },
  {
   "cell_type": "code",
   "execution_count": 23,
   "id": "f30ab0ef",
   "metadata": {},
   "outputs": [
    {
     "data": {
      "text/html": [
       "<div>\n",
       "<style scoped>\n",
       "    .dataframe tbody tr th:only-of-type {\n",
       "        vertical-align: middle;\n",
       "    }\n",
       "\n",
       "    .dataframe tbody tr th {\n",
       "        vertical-align: top;\n",
       "    }\n",
       "\n",
       "    .dataframe thead th {\n",
       "        text-align: right;\n",
       "    }\n",
       "</style>\n",
       "<table border=\"1\" class=\"dataframe\">\n",
       "  <thead>\n",
       "    <tr style=\"text-align: right;\">\n",
       "      <th></th>\n",
       "      <th>hour</th>\n",
       "    </tr>\n",
       "    <tr>\n",
       "      <th>user</th>\n",
       "      <th></th>\n",
       "    </tr>\n",
       "  </thead>\n",
       "  <tbody>\n",
       "    <tr>\n",
       "      <th>alexander</th>\n",
       "      <td>8</td>\n",
       "    </tr>\n",
       "    <tr>\n",
       "      <th>alexander</th>\n",
       "      <td>8</td>\n",
       "    </tr>\n",
       "  </tbody>\n",
       "</table>\n",
       "</div>"
      ],
      "text/plain": [
       "           hour\n",
       "user           \n",
       "alexander     8\n",
       "alexander     8"
      ]
     },
     "execution_count": 23,
     "metadata": {},
     "output_type": "execute_result"
    }
   ],
   "source": [
    "visited_min_morning_hour = df.loc[df[\"hour\"] == min_morning_hour, [\"hour\"]]\n",
    "visited_min_morning_hour.head()"
   ]
  },
  {
   "cell_type": "code",
   "execution_count": 24,
   "id": "5cfd9ccb",
   "metadata": {},
   "outputs": [
    {
     "data": {
      "text/html": [
       "<div>\n",
       "<style scoped>\n",
       "    .dataframe tbody tr th:only-of-type {\n",
       "        vertical-align: middle;\n",
       "    }\n",
       "\n",
       "    .dataframe tbody tr th {\n",
       "        vertical-align: top;\n",
       "    }\n",
       "\n",
       "    .dataframe thead th {\n",
       "        text-align: right;\n",
       "    }\n",
       "</style>\n",
       "<table border=\"1\" class=\"dataframe\">\n",
       "  <thead>\n",
       "    <tr style=\"text-align: right;\">\n",
       "      <th></th>\n",
       "      <th>hour</th>\n",
       "    </tr>\n",
       "    <tr>\n",
       "      <th>user</th>\n",
       "      <th></th>\n",
       "    </tr>\n",
       "  </thead>\n",
       "  <tbody>\n",
       "    <tr>\n",
       "      <th>konstantin</th>\n",
       "      <td>3</td>\n",
       "    </tr>\n",
       "    <tr>\n",
       "      <th>konstantin</th>\n",
       "      <td>3</td>\n",
       "    </tr>\n",
       "    <tr>\n",
       "      <th>konstantin</th>\n",
       "      <td>3</td>\n",
       "    </tr>\n",
       "  </tbody>\n",
       "</table>\n",
       "</div>"
      ],
      "text/plain": [
       "            hour\n",
       "user            \n",
       "konstantin     3\n",
       "konstantin     3\n",
       "konstantin     3"
      ]
     },
     "execution_count": 24,
     "metadata": {},
     "output_type": "execute_result"
    }
   ],
   "source": [
    "visited_max_night_hour = df.loc[df[\"hour\"] == max_night_hour, [\"hour\"]]\n",
    "visited_max_night_hour.head()"
   ]
  },
  {
   "cell_type": "markdown",
   "id": "937abe7c",
   "metadata": {},
   "source": [
    "* calculate the mode for the hour and daytime"
   ]
  },
  {
   "cell_type": "code",
   "execution_count": 25,
   "id": "7b2e1497",
   "metadata": {},
   "outputs": [
    {
     "name": "stdout",
     "output_type": "stream",
     "text": [
      "The mode for the hour 0    22\n",
      "Name: hour, dtype: int32\n"
     ]
    }
   ],
   "source": [
    "print(f\"The mode for the hour {df[\"hour\"].mode()}\")"
   ]
  },
  {
   "cell_type": "code",
   "execution_count": 26,
   "id": "57ff0323",
   "metadata": {},
   "outputs": [
    {
     "name": "stdout",
     "output_type": "stream",
     "text": [
      "The mode for the daytime 0    evening\n",
      "Name: daytime, dtype: category\n",
      "Categories (6, object): ['night' < 'early morning' < 'morning' < 'afternoon' < 'early evening' < 'evening']\n"
     ]
    }
   ],
   "source": [
    "print(f\"The mode for the daytime {df[\"daytime\"].mode()}\")"
   ]
  },
  {
   "cell_type": "markdown",
   "id": "97899616",
   "metadata": {},
   "source": [
    "* show the 3 earliest hours in the morning and the corresponding usernames and the\n",
    "  3 latest hours and the usernames using `nsmallest()` and `nlargest()`"
   ]
  },
  {
   "cell_type": "code",
   "execution_count": 27,
   "id": "34d6368f",
   "metadata": {},
   "outputs": [
    {
     "data": {
      "text/html": [
       "<div>\n",
       "<style scoped>\n",
       "    .dataframe tbody tr th:only-of-type {\n",
       "        vertical-align: middle;\n",
       "    }\n",
       "\n",
       "    .dataframe tbody tr th {\n",
       "        vertical-align: top;\n",
       "    }\n",
       "\n",
       "    .dataframe thead th {\n",
       "        text-align: right;\n",
       "    }\n",
       "</style>\n",
       "<table border=\"1\" class=\"dataframe\">\n",
       "  <thead>\n",
       "    <tr style=\"text-align: right;\">\n",
       "      <th></th>\n",
       "      <th>datetime</th>\n",
       "      <th>year</th>\n",
       "      <th>month</th>\n",
       "      <th>day</th>\n",
       "      <th>hour</th>\n",
       "      <th>minute</th>\n",
       "      <th>second</th>\n",
       "      <th>daytime</th>\n",
       "    </tr>\n",
       "    <tr>\n",
       "      <th>user</th>\n",
       "      <th></th>\n",
       "      <th></th>\n",
       "      <th></th>\n",
       "      <th></th>\n",
       "      <th></th>\n",
       "      <th></th>\n",
       "      <th></th>\n",
       "      <th></th>\n",
       "    </tr>\n",
       "  </thead>\n",
       "  <tbody>\n",
       "    <tr>\n",
       "      <th>alexander</th>\n",
       "      <td>2020-05-15 08:16:03.918402</td>\n",
       "      <td>2020</td>\n",
       "      <td>5</td>\n",
       "      <td>15</td>\n",
       "      <td>8</td>\n",
       "      <td>16</td>\n",
       "      <td>3</td>\n",
       "      <td>morning</td>\n",
       "    </tr>\n",
       "    <tr>\n",
       "      <th>alexander</th>\n",
       "      <td>2020-05-15 08:35:01.471463</td>\n",
       "      <td>2020</td>\n",
       "      <td>5</td>\n",
       "      <td>15</td>\n",
       "      <td>8</td>\n",
       "      <td>35</td>\n",
       "      <td>1</td>\n",
       "      <td>morning</td>\n",
       "    </tr>\n",
       "    <tr>\n",
       "      <th>alexander</th>\n",
       "      <td>2020-05-15 09:02:24.999438</td>\n",
       "      <td>2020</td>\n",
       "      <td>5</td>\n",
       "      <td>15</td>\n",
       "      <td>9</td>\n",
       "      <td>2</td>\n",
       "      <td>24</td>\n",
       "      <td>morning</td>\n",
       "    </tr>\n",
       "  </tbody>\n",
       "</table>\n",
       "</div>"
      ],
      "text/plain": [
       "                            datetime  year  month  day  hour  minute  second  \\\n",
       "user                                                                           \n",
       "alexander 2020-05-15 08:16:03.918402  2020      5   15     8      16       3   \n",
       "alexander 2020-05-15 08:35:01.471463  2020      5   15     8      35       1   \n",
       "alexander 2020-05-15 09:02:24.999438  2020      5   15     9       2      24   \n",
       "\n",
       "           daytime  \n",
       "user                \n",
       "alexander  morning  \n",
       "alexander  morning  \n",
       "alexander  morning  "
      ]
     },
     "execution_count": 27,
     "metadata": {},
     "output_type": "execute_result"
    }
   ],
   "source": [
    "earliest_hours = df[df[\"daytime\"] == \"morning\"]\n",
    "earliest_hours.nsmallest(n = 3, columns= \"hour\", keep=\"first\")"
   ]
  },
  {
   "cell_type": "code",
   "execution_count": 28,
   "id": "c15eee39",
   "metadata": {},
   "outputs": [
    {
     "data": {
      "text/html": [
       "<div>\n",
       "<style scoped>\n",
       "    .dataframe tbody tr th:only-of-type {\n",
       "        vertical-align: middle;\n",
       "    }\n",
       "\n",
       "    .dataframe tbody tr th {\n",
       "        vertical-align: top;\n",
       "    }\n",
       "\n",
       "    .dataframe thead th {\n",
       "        text-align: right;\n",
       "    }\n",
       "</style>\n",
       "<table border=\"1\" class=\"dataframe\">\n",
       "  <thead>\n",
       "    <tr style=\"text-align: right;\">\n",
       "      <th></th>\n",
       "      <th>datetime</th>\n",
       "      <th>year</th>\n",
       "      <th>month</th>\n",
       "      <th>day</th>\n",
       "      <th>hour</th>\n",
       "      <th>minute</th>\n",
       "      <th>second</th>\n",
       "      <th>daytime</th>\n",
       "    </tr>\n",
       "    <tr>\n",
       "      <th>user</th>\n",
       "      <th></th>\n",
       "      <th></th>\n",
       "      <th></th>\n",
       "      <th></th>\n",
       "      <th></th>\n",
       "      <th></th>\n",
       "      <th></th>\n",
       "      <th></th>\n",
       "    </tr>\n",
       "  </thead>\n",
       "  <tbody>\n",
       "    <tr>\n",
       "      <th>konstantin</th>\n",
       "      <td>2020-05-16 10:02:08.925840</td>\n",
       "      <td>2020</td>\n",
       "      <td>5</td>\n",
       "      <td>16</td>\n",
       "      <td>10</td>\n",
       "      <td>2</td>\n",
       "      <td>8</td>\n",
       "      <td>morning</td>\n",
       "    </tr>\n",
       "    <tr>\n",
       "      <th>maxim</th>\n",
       "      <td>2020-05-14 10:08:04.832361</td>\n",
       "      <td>2020</td>\n",
       "      <td>5</td>\n",
       "      <td>14</td>\n",
       "      <td>10</td>\n",
       "      <td>8</td>\n",
       "      <td>4</td>\n",
       "      <td>morning</td>\n",
       "    </tr>\n",
       "    <tr>\n",
       "      <th>maxim</th>\n",
       "      <td>2020-05-14 10:08:05.726956</td>\n",
       "      <td>2020</td>\n",
       "      <td>5</td>\n",
       "      <td>14</td>\n",
       "      <td>10</td>\n",
       "      <td>8</td>\n",
       "      <td>5</td>\n",
       "      <td>morning</td>\n",
       "    </tr>\n",
       "  </tbody>\n",
       "</table>\n",
       "</div>"
      ],
      "text/plain": [
       "                             datetime  year  month  day  hour  minute  second  \\\n",
       "user                                                                            \n",
       "konstantin 2020-05-16 10:02:08.925840  2020      5   16    10       2       8   \n",
       "maxim      2020-05-14 10:08:04.832361  2020      5   14    10       8       4   \n",
       "maxim      2020-05-14 10:08:05.726956  2020      5   14    10       8       5   \n",
       "\n",
       "            daytime  \n",
       "user                 \n",
       "konstantin  morning  \n",
       "maxim       morning  \n",
       "maxim       morning  "
      ]
     },
     "execution_count": 28,
     "metadata": {},
     "output_type": "execute_result"
    }
   ],
   "source": [
    "latest_hour = df[df[\"daytime\"] == \"morning\"]\n",
    "latest_hour.nlargest(n = 3, columns= \"hour\", keep=\"first\")"
   ]
  },
  {
   "cell_type": "markdown",
   "id": "b59a51bb",
   "metadata": {},
   "source": [
    "* use the method `describe()` to get the basic statistics for the columns"
   ]
  },
  {
   "cell_type": "code",
   "execution_count": 29,
   "id": "20a50607",
   "metadata": {},
   "outputs": [
    {
     "data": {
      "text/html": [
       "<div>\n",
       "<style scoped>\n",
       "    .dataframe tbody tr th:only-of-type {\n",
       "        vertical-align: middle;\n",
       "    }\n",
       "\n",
       "    .dataframe tbody tr th {\n",
       "        vertical-align: top;\n",
       "    }\n",
       "\n",
       "    .dataframe thead th {\n",
       "        text-align: right;\n",
       "    }\n",
       "</style>\n",
       "<table border=\"1\" class=\"dataframe\">\n",
       "  <thead>\n",
       "    <tr style=\"text-align: right;\">\n",
       "      <th></th>\n",
       "      <th>datetime</th>\n",
       "      <th>year</th>\n",
       "      <th>month</th>\n",
       "      <th>day</th>\n",
       "      <th>hour</th>\n",
       "      <th>minute</th>\n",
       "      <th>second</th>\n",
       "    </tr>\n",
       "  </thead>\n",
       "  <tbody>\n",
       "    <tr>\n",
       "      <th>count</th>\n",
       "      <td>1076</td>\n",
       "      <td>1076.0</td>\n",
       "      <td>1076.000000</td>\n",
       "      <td>1076.000000</td>\n",
       "      <td>1076.000000</td>\n",
       "      <td>1076.000000</td>\n",
       "      <td>1076.000000</td>\n",
       "    </tr>\n",
       "    <tr>\n",
       "      <th>mean</th>\n",
       "      <td>2020-05-10 09:00:41.211420672</td>\n",
       "      <td>2020.0</td>\n",
       "      <td>4.870818</td>\n",
       "      <td>13.552974</td>\n",
       "      <td>16.249071</td>\n",
       "      <td>29.629182</td>\n",
       "      <td>29.500929</td>\n",
       "    </tr>\n",
       "    <tr>\n",
       "      <th>min</th>\n",
       "      <td>2020-04-17 12:01:08.463179</td>\n",
       "      <td>2020.0</td>\n",
       "      <td>4.000000</td>\n",
       "      <td>1.000000</td>\n",
       "      <td>0.000000</td>\n",
       "      <td>0.000000</td>\n",
       "      <td>0.000000</td>\n",
       "    </tr>\n",
       "    <tr>\n",
       "      <th>25%</th>\n",
       "      <td>2020-05-10 01:13:49.857472</td>\n",
       "      <td>2020.0</td>\n",
       "      <td>5.000000</td>\n",
       "      <td>11.000000</td>\n",
       "      <td>13.000000</td>\n",
       "      <td>14.000000</td>\n",
       "      <td>14.000000</td>\n",
       "    </tr>\n",
       "    <tr>\n",
       "      <th>50%</th>\n",
       "      <td>2020-05-11 22:48:35.302552832</td>\n",
       "      <td>2020.0</td>\n",
       "      <td>5.000000</td>\n",
       "      <td>13.000000</td>\n",
       "      <td>19.000000</td>\n",
       "      <td>29.000000</td>\n",
       "      <td>30.000000</td>\n",
       "    </tr>\n",
       "  </tbody>\n",
       "</table>\n",
       "</div>"
      ],
      "text/plain": [
       "                            datetime    year        month          day  \\\n",
       "count                           1076  1076.0  1076.000000  1076.000000   \n",
       "mean   2020-05-10 09:00:41.211420672  2020.0     4.870818    13.552974   \n",
       "min       2020-04-17 12:01:08.463179  2020.0     4.000000     1.000000   \n",
       "25%       2020-05-10 01:13:49.857472  2020.0     5.000000    11.000000   \n",
       "50%    2020-05-11 22:48:35.302552832  2020.0     5.000000    13.000000   \n",
       "\n",
       "              hour       minute       second  \n",
       "count  1076.000000  1076.000000  1076.000000  \n",
       "mean     16.249071    29.629182    29.500929  \n",
       "min       0.000000     0.000000     0.000000  \n",
       "25%      13.000000    14.000000    14.000000  \n",
       "50%      19.000000    29.000000    30.000000  "
      ]
     },
     "execution_count": 29,
     "metadata": {},
     "output_type": "execute_result"
    }
   ],
   "source": [
    "describe = df.describe()\n",
    "describe.head()"
   ]
  },
  {
   "cell_type": "markdown",
   "id": "0916b449",
   "metadata": {},
   "source": [
    "* to find out what the most popular interval for visiting the page is, calculate\n",
    "    the interquartile range for the hour by extracting values from the result of the\n",
    "`describe()` method and store it in the variable `iqr`"
   ]
  },
  {
   "cell_type": "code",
   "execution_count": 30,
   "id": "5166ad41",
   "metadata": {},
   "outputs": [
    {
     "name": "stdout",
     "output_type": "stream",
     "text": [
      "9.0\n"
     ]
    }
   ],
   "source": [
    "iqr = describe[\"hour\"][\"75%\"] - describe[\"hour\"][\"25%\"]\n",
    "print(iqr)"
   ]
  }
 ],
 "metadata": {
  "kernelspec": {
   "display_name": "nilahugh",
   "language": "python",
   "name": "python3"
  },
  "language_info": {
   "codemirror_mode": {
    "name": "ipython",
    "version": 3
   },
   "file_extension": ".py",
   "mimetype": "text/x-python",
   "name": "python",
   "nbconvert_exporter": "python",
   "pygments_lexer": "ipython3",
   "version": "3.12.3"
  }
 },
 "nbformat": 4,
 "nbformat_minor": 5
}
