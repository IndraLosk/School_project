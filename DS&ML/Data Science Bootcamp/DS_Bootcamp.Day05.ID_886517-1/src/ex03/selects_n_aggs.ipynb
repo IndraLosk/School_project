{
 "cells": [
  {
   "cell_type": "markdown",
   "id": "16e23ea2",
   "metadata": {},
   "source": [
    "### Exercise 03 : Selects and aggregations"
   ]
  },
  {
   "cell_type": "markdown",
   "id": "4b4fc2a4",
   "metadata": {},
   "source": [
    "* Load the JSON file that you created in the previous exercise into a dataframe \n",
    "  * set `CarNumber` as the index column"
   ]
  },
  {
   "cell_type": "code",
   "execution_count": 167,
   "id": "1e136d8b",
   "metadata": {},
   "outputs": [
    {
     "data": {
      "text/html": [
       "<div>\n",
       "<style scoped>\n",
       "    .dataframe tbody tr th:only-of-type {\n",
       "        vertical-align: middle;\n",
       "    }\n",
       "\n",
       "    .dataframe tbody tr th {\n",
       "        vertical-align: top;\n",
       "    }\n",
       "\n",
       "    .dataframe thead th {\n",
       "        text-align: right;\n",
       "    }\n",
       "</style>\n",
       "<table border=\"1\" class=\"dataframe\">\n",
       "  <thead>\n",
       "    <tr style=\"text-align: right;\">\n",
       "      <th></th>\n",
       "      <th>Refund</th>\n",
       "      <th>Fines</th>\n",
       "      <th>Make</th>\n",
       "      <th>Model</th>\n",
       "    </tr>\n",
       "    <tr>\n",
       "      <th>CarNumber</th>\n",
       "      <th></th>\n",
       "      <th></th>\n",
       "      <th></th>\n",
       "      <th></th>\n",
       "    </tr>\n",
       "  </thead>\n",
       "  <tbody>\n",
       "    <tr>\n",
       "      <th>Y163O8161RUS</th>\n",
       "      <td>2</td>\n",
       "      <td>3200.000000</td>\n",
       "      <td>Ford</td>\n",
       "      <td>Focus</td>\n",
       "    </tr>\n",
       "    <tr>\n",
       "      <th>E432XX77RUS</th>\n",
       "      <td>1</td>\n",
       "      <td>6500.000000</td>\n",
       "      <td>Toyota</td>\n",
       "      <td>Camry</td>\n",
       "    </tr>\n",
       "    <tr>\n",
       "      <th>7184TT36RUS</th>\n",
       "      <td>1</td>\n",
       "      <td>2100.000000</td>\n",
       "      <td>Ford</td>\n",
       "      <td>Focus</td>\n",
       "    </tr>\n",
       "    <tr>\n",
       "      <th>X582HE161RUS</th>\n",
       "      <td>2</td>\n",
       "      <td>2000.000000</td>\n",
       "      <td>Ford</td>\n",
       "      <td>Focus</td>\n",
       "    </tr>\n",
       "    <tr>\n",
       "      <th>92918M178RUS</th>\n",
       "      <td>1</td>\n",
       "      <td>5700.000000</td>\n",
       "      <td>Ford</td>\n",
       "      <td>Focus</td>\n",
       "    </tr>\n",
       "    <tr>\n",
       "      <th>...</th>\n",
       "      <td>...</td>\n",
       "      <td>...</td>\n",
       "      <td>...</td>\n",
       "      <td>...</td>\n",
       "    </tr>\n",
       "    <tr>\n",
       "      <th>Y163O8161RUS</th>\n",
       "      <td>2</td>\n",
       "      <td>1600.000000</td>\n",
       "      <td>Ford</td>\n",
       "      <td>Focus</td>\n",
       "    </tr>\n",
       "    <tr>\n",
       "      <th>M0309X197RUS</th>\n",
       "      <td>1</td>\n",
       "      <td>22300.000000</td>\n",
       "      <td>Ford</td>\n",
       "      <td>Focus</td>\n",
       "    </tr>\n",
       "    <tr>\n",
       "      <th>O673E8197RUS</th>\n",
       "      <td>2</td>\n",
       "      <td>600.000000</td>\n",
       "      <td>Ford</td>\n",
       "      <td>Focus</td>\n",
       "    </tr>\n",
       "    <tr>\n",
       "      <th>8610T8154RUS</th>\n",
       "      <td>1</td>\n",
       "      <td>2000.000000</td>\n",
       "      <td>Ford</td>\n",
       "      <td>Focus</td>\n",
       "    </tr>\n",
       "    <tr>\n",
       "      <th>H419XE197RUS</th>\n",
       "      <td>2</td>\n",
       "      <td>8594.586466</td>\n",
       "      <td>Toyota</td>\n",
       "      <td>Corolla</td>\n",
       "    </tr>\n",
       "  </tbody>\n",
       "</table>\n",
       "<p>725 rows × 4 columns</p>\n",
       "</div>"
      ],
      "text/plain": [
       "              Refund         Fines    Make    Model\n",
       "CarNumber                                          \n",
       "Y163O8161RUS       2   3200.000000    Ford    Focus\n",
       "E432XX77RUS        1   6500.000000  Toyota    Camry\n",
       "7184TT36RUS        1   2100.000000    Ford    Focus\n",
       "X582HE161RUS       2   2000.000000    Ford    Focus\n",
       "92918M178RUS       1   5700.000000    Ford    Focus\n",
       "...              ...           ...     ...      ...\n",
       "Y163O8161RUS       2   1600.000000    Ford    Focus\n",
       "M0309X197RUS       1  22300.000000    Ford    Focus\n",
       "O673E8197RUS       2    600.000000    Ford    Focus\n",
       "8610T8154RUS       1   2000.000000    Ford    Focus\n",
       "H419XE197RUS       2   8594.586466  Toyota  Corolla\n",
       "\n",
       "[725 rows x 4 columns]"
      ]
     },
     "execution_count": 167,
     "metadata": {},
     "output_type": "execute_result"
    }
   ],
   "source": [
    "import pandas as pd\n",
    "df = pd.read_json(\"../data/auto.json\")\n",
    "df.set_index(\"CarNumber\", inplace=True)\n",
    "df"
   ]
  },
  {
   "cell_type": "markdown",
   "id": "bfbdff8e",
   "metadata": {},
   "source": [
    "### Make the following selects\n",
    "* display the rows only where the `fines` are more than `2,100`"
   ]
  },
  {
   "cell_type": "code",
   "execution_count": 168,
   "id": "f2d46063",
   "metadata": {},
   "outputs": [
    {
     "data": {
      "text/html": [
       "<div>\n",
       "<style scoped>\n",
       "    .dataframe tbody tr th:only-of-type {\n",
       "        vertical-align: middle;\n",
       "    }\n",
       "\n",
       "    .dataframe tbody tr th {\n",
       "        vertical-align: top;\n",
       "    }\n",
       "\n",
       "    .dataframe thead th {\n",
       "        text-align: right;\n",
       "    }\n",
       "</style>\n",
       "<table border=\"1\" class=\"dataframe\">\n",
       "  <thead>\n",
       "    <tr style=\"text-align: right;\">\n",
       "      <th></th>\n",
       "      <th>Refund</th>\n",
       "      <th>Fines</th>\n",
       "      <th>Make</th>\n",
       "      <th>Model</th>\n",
       "    </tr>\n",
       "    <tr>\n",
       "      <th>CarNumber</th>\n",
       "      <th></th>\n",
       "      <th></th>\n",
       "      <th></th>\n",
       "      <th></th>\n",
       "    </tr>\n",
       "  </thead>\n",
       "  <tbody>\n",
       "    <tr>\n",
       "      <th>Y163O8161RUS</th>\n",
       "      <td>2</td>\n",
       "      <td>3200.000000</td>\n",
       "      <td>Ford</td>\n",
       "      <td>Focus</td>\n",
       "    </tr>\n",
       "    <tr>\n",
       "      <th>E432XX77RUS</th>\n",
       "      <td>1</td>\n",
       "      <td>6500.000000</td>\n",
       "      <td>Toyota</td>\n",
       "      <td>Camry</td>\n",
       "    </tr>\n",
       "    <tr>\n",
       "      <th>92918M178RUS</th>\n",
       "      <td>1</td>\n",
       "      <td>5700.000000</td>\n",
       "      <td>Ford</td>\n",
       "      <td>Focus</td>\n",
       "    </tr>\n",
       "    <tr>\n",
       "      <th>H234YH197RUS</th>\n",
       "      <td>2</td>\n",
       "      <td>6000.000000</td>\n",
       "      <td>Ford</td>\n",
       "      <td>Focus</td>\n",
       "    </tr>\n",
       "    <tr>\n",
       "      <th>E40577152RUS</th>\n",
       "      <td>1</td>\n",
       "      <td>8594.586466</td>\n",
       "      <td>Ford</td>\n",
       "      <td>Focus</td>\n",
       "    </tr>\n",
       "    <tr>\n",
       "      <th>...</th>\n",
       "      <td>...</td>\n",
       "      <td>...</td>\n",
       "      <td>...</td>\n",
       "      <td>...</td>\n",
       "    </tr>\n",
       "    <tr>\n",
       "      <th>O718MM163RUS</th>\n",
       "      <td>2</td>\n",
       "      <td>8594.586466</td>\n",
       "      <td>Ford</td>\n",
       "      <td>Focus</td>\n",
       "    </tr>\n",
       "    <tr>\n",
       "      <th>7065C8197RUS</th>\n",
       "      <td>2</td>\n",
       "      <td>11400.000000</td>\n",
       "      <td>Volkswagen</td>\n",
       "      <td>Passat</td>\n",
       "    </tr>\n",
       "    <tr>\n",
       "      <th>O22097197RUS</th>\n",
       "      <td>1</td>\n",
       "      <td>24300.000000</td>\n",
       "      <td>Ford</td>\n",
       "      <td>Focus</td>\n",
       "    </tr>\n",
       "    <tr>\n",
       "      <th>M0309X197RUS</th>\n",
       "      <td>1</td>\n",
       "      <td>22300.000000</td>\n",
       "      <td>Ford</td>\n",
       "      <td>Focus</td>\n",
       "    </tr>\n",
       "    <tr>\n",
       "      <th>H419XE197RUS</th>\n",
       "      <td>2</td>\n",
       "      <td>8594.586466</td>\n",
       "      <td>Toyota</td>\n",
       "      <td>Corolla</td>\n",
       "    </tr>\n",
       "  </tbody>\n",
       "</table>\n",
       "<p>455 rows × 4 columns</p>\n",
       "</div>"
      ],
      "text/plain": [
       "              Refund         Fines        Make    Model\n",
       "CarNumber                                              \n",
       "Y163O8161RUS       2   3200.000000        Ford    Focus\n",
       "E432XX77RUS        1   6500.000000      Toyota    Camry\n",
       "92918M178RUS       1   5700.000000        Ford    Focus\n",
       "H234YH197RUS       2   6000.000000        Ford    Focus\n",
       "E40577152RUS       1   8594.586466        Ford    Focus\n",
       "...              ...           ...         ...      ...\n",
       "O718MM163RUS       2   8594.586466        Ford    Focus\n",
       "7065C8197RUS       2  11400.000000  Volkswagen   Passat\n",
       "O22097197RUS       1  24300.000000        Ford    Focus\n",
       "M0309X197RUS       1  22300.000000        Ford    Focus\n",
       "H419XE197RUS       2   8594.586466      Toyota  Corolla\n",
       "\n",
       "[455 rows x 4 columns]"
      ]
     },
     "execution_count": 168,
     "metadata": {},
     "output_type": "execute_result"
    }
   ],
   "source": [
    "df[df[\"Fines\"] > 2100]"
   ]
  },
  {
   "cell_type": "markdown",
   "id": "b1281d4f",
   "metadata": {},
   "source": [
    "* display the rows only where the `fines` are more than `2,100` and the `refund` equals `2`"
   ]
  },
  {
   "cell_type": "code",
   "execution_count": 169,
   "id": "3f04ea90",
   "metadata": {},
   "outputs": [
    {
     "data": {
      "text/html": [
       "<div>\n",
       "<style scoped>\n",
       "    .dataframe tbody tr th:only-of-type {\n",
       "        vertical-align: middle;\n",
       "    }\n",
       "\n",
       "    .dataframe tbody tr th {\n",
       "        vertical-align: top;\n",
       "    }\n",
       "\n",
       "    .dataframe thead th {\n",
       "        text-align: right;\n",
       "    }\n",
       "</style>\n",
       "<table border=\"1\" class=\"dataframe\">\n",
       "  <thead>\n",
       "    <tr style=\"text-align: right;\">\n",
       "      <th></th>\n",
       "      <th>Refund</th>\n",
       "      <th>Fines</th>\n",
       "      <th>Make</th>\n",
       "      <th>Model</th>\n",
       "    </tr>\n",
       "    <tr>\n",
       "      <th>CarNumber</th>\n",
       "      <th></th>\n",
       "      <th></th>\n",
       "      <th></th>\n",
       "      <th></th>\n",
       "    </tr>\n",
       "  </thead>\n",
       "  <tbody>\n",
       "    <tr>\n",
       "      <th>Y163O8161RUS</th>\n",
       "      <td>2</td>\n",
       "      <td>3200.000000</td>\n",
       "      <td>Ford</td>\n",
       "      <td>Focus</td>\n",
       "    </tr>\n",
       "    <tr>\n",
       "      <th>H234YH197RUS</th>\n",
       "      <td>2</td>\n",
       "      <td>6000.000000</td>\n",
       "      <td>Ford</td>\n",
       "      <td>Focus</td>\n",
       "    </tr>\n",
       "    <tr>\n",
       "      <th>707987163RUS</th>\n",
       "      <td>2</td>\n",
       "      <td>2200.000000</td>\n",
       "      <td>Ford</td>\n",
       "      <td>Focus</td>\n",
       "    </tr>\n",
       "    <tr>\n",
       "      <th>K330T8197RUS</th>\n",
       "      <td>2</td>\n",
       "      <td>8200.000000</td>\n",
       "      <td>Skoda</td>\n",
       "      <td>Octavia</td>\n",
       "    </tr>\n",
       "    <tr>\n",
       "      <th>M592CH197RUS</th>\n",
       "      <td>2</td>\n",
       "      <td>8594.586466</td>\n",
       "      <td>Skoda</td>\n",
       "      <td>Octavia</td>\n",
       "    </tr>\n",
       "    <tr>\n",
       "      <th>...</th>\n",
       "      <td>...</td>\n",
       "      <td>...</td>\n",
       "      <td>...</td>\n",
       "      <td>...</td>\n",
       "    </tr>\n",
       "    <tr>\n",
       "      <th>O136HO197RUS</th>\n",
       "      <td>2</td>\n",
       "      <td>7800.000000</td>\n",
       "      <td>Toyota</td>\n",
       "      <td>Corolla</td>\n",
       "    </tr>\n",
       "    <tr>\n",
       "      <th>O68897197RUS</th>\n",
       "      <td>2</td>\n",
       "      <td>12300.000000</td>\n",
       "      <td>Ford</td>\n",
       "      <td>Focus</td>\n",
       "    </tr>\n",
       "    <tr>\n",
       "      <th>O718MM163RUS</th>\n",
       "      <td>2</td>\n",
       "      <td>8594.586466</td>\n",
       "      <td>Ford</td>\n",
       "      <td>Focus</td>\n",
       "    </tr>\n",
       "    <tr>\n",
       "      <th>7065C8197RUS</th>\n",
       "      <td>2</td>\n",
       "      <td>11400.000000</td>\n",
       "      <td>Volkswagen</td>\n",
       "      <td>Passat</td>\n",
       "    </tr>\n",
       "    <tr>\n",
       "      <th>H419XE197RUS</th>\n",
       "      <td>2</td>\n",
       "      <td>8594.586466</td>\n",
       "      <td>Toyota</td>\n",
       "      <td>Corolla</td>\n",
       "    </tr>\n",
       "  </tbody>\n",
       "</table>\n",
       "<p>309 rows × 4 columns</p>\n",
       "</div>"
      ],
      "text/plain": [
       "              Refund         Fines        Make    Model\n",
       "CarNumber                                              \n",
       "Y163O8161RUS       2   3200.000000        Ford    Focus\n",
       "H234YH197RUS       2   6000.000000        Ford    Focus\n",
       "707987163RUS       2   2200.000000        Ford    Focus\n",
       "K330T8197RUS       2   8200.000000       Skoda  Octavia\n",
       "M592CH197RUS       2   8594.586466       Skoda  Octavia\n",
       "...              ...           ...         ...      ...\n",
       "O136HO197RUS       2   7800.000000      Toyota  Corolla\n",
       "O68897197RUS       2  12300.000000        Ford    Focus\n",
       "O718MM163RUS       2   8594.586466        Ford    Focus\n",
       "7065C8197RUS       2  11400.000000  Volkswagen   Passat\n",
       "H419XE197RUS       2   8594.586466      Toyota  Corolla\n",
       "\n",
       "[309 rows x 4 columns]"
      ]
     },
     "execution_count": 169,
     "metadata": {},
     "output_type": "execute_result"
    }
   ],
   "source": [
    "df[(df[\"Fines\"] > 2100) & (df[\"Refund\"] == 2)]"
   ]
  },
  {
   "cell_type": "markdown",
   "id": "0d5e1cb3",
   "metadata": {},
   "source": [
    "* display the rows only where the `models` are from the list: `````[’Focus’, ’Corolla’]`````"
   ]
  },
  {
   "cell_type": "code",
   "execution_count": 170,
   "id": "b756edeb",
   "metadata": {},
   "outputs": [
    {
     "data": {
      "text/html": [
       "<div>\n",
       "<style scoped>\n",
       "    .dataframe tbody tr th:only-of-type {\n",
       "        vertical-align: middle;\n",
       "    }\n",
       "\n",
       "    .dataframe tbody tr th {\n",
       "        vertical-align: top;\n",
       "    }\n",
       "\n",
       "    .dataframe thead th {\n",
       "        text-align: right;\n",
       "    }\n",
       "</style>\n",
       "<table border=\"1\" class=\"dataframe\">\n",
       "  <thead>\n",
       "    <tr style=\"text-align: right;\">\n",
       "      <th></th>\n",
       "      <th>Refund</th>\n",
       "      <th>Fines</th>\n",
       "      <th>Make</th>\n",
       "      <th>Model</th>\n",
       "    </tr>\n",
       "    <tr>\n",
       "      <th>CarNumber</th>\n",
       "      <th></th>\n",
       "      <th></th>\n",
       "      <th></th>\n",
       "      <th></th>\n",
       "    </tr>\n",
       "  </thead>\n",
       "  <tbody>\n",
       "    <tr>\n",
       "      <th>Y163O8161RUS</th>\n",
       "      <td>2</td>\n",
       "      <td>3200.000000</td>\n",
       "      <td>Ford</td>\n",
       "      <td>Focus</td>\n",
       "    </tr>\n",
       "    <tr>\n",
       "      <th>7184TT36RUS</th>\n",
       "      <td>1</td>\n",
       "      <td>2100.000000</td>\n",
       "      <td>Ford</td>\n",
       "      <td>Focus</td>\n",
       "    </tr>\n",
       "    <tr>\n",
       "      <th>X582HE161RUS</th>\n",
       "      <td>2</td>\n",
       "      <td>2000.000000</td>\n",
       "      <td>Ford</td>\n",
       "      <td>Focus</td>\n",
       "    </tr>\n",
       "    <tr>\n",
       "      <th>92918M178RUS</th>\n",
       "      <td>1</td>\n",
       "      <td>5700.000000</td>\n",
       "      <td>Ford</td>\n",
       "      <td>Focus</td>\n",
       "    </tr>\n",
       "    <tr>\n",
       "      <th>H234YH197RUS</th>\n",
       "      <td>2</td>\n",
       "      <td>6000.000000</td>\n",
       "      <td>Ford</td>\n",
       "      <td>Focus</td>\n",
       "    </tr>\n",
       "    <tr>\n",
       "      <th>...</th>\n",
       "      <td>...</td>\n",
       "      <td>...</td>\n",
       "      <td>...</td>\n",
       "      <td>...</td>\n",
       "    </tr>\n",
       "    <tr>\n",
       "      <th>Y163O8161RUS</th>\n",
       "      <td>2</td>\n",
       "      <td>1600.000000</td>\n",
       "      <td>Ford</td>\n",
       "      <td>Focus</td>\n",
       "    </tr>\n",
       "    <tr>\n",
       "      <th>M0309X197RUS</th>\n",
       "      <td>1</td>\n",
       "      <td>22300.000000</td>\n",
       "      <td>Ford</td>\n",
       "      <td>Focus</td>\n",
       "    </tr>\n",
       "    <tr>\n",
       "      <th>O673E8197RUS</th>\n",
       "      <td>2</td>\n",
       "      <td>600.000000</td>\n",
       "      <td>Ford</td>\n",
       "      <td>Focus</td>\n",
       "    </tr>\n",
       "    <tr>\n",
       "      <th>8610T8154RUS</th>\n",
       "      <td>1</td>\n",
       "      <td>2000.000000</td>\n",
       "      <td>Ford</td>\n",
       "      <td>Focus</td>\n",
       "    </tr>\n",
       "    <tr>\n",
       "      <th>H419XE197RUS</th>\n",
       "      <td>2</td>\n",
       "      <td>8594.586466</td>\n",
       "      <td>Toyota</td>\n",
       "      <td>Corolla</td>\n",
       "    </tr>\n",
       "  </tbody>\n",
       "</table>\n",
       "<p>593 rows × 4 columns</p>\n",
       "</div>"
      ],
      "text/plain": [
       "              Refund         Fines    Make    Model\n",
       "CarNumber                                          \n",
       "Y163O8161RUS       2   3200.000000    Ford    Focus\n",
       "7184TT36RUS        1   2100.000000    Ford    Focus\n",
       "X582HE161RUS       2   2000.000000    Ford    Focus\n",
       "92918M178RUS       1   5700.000000    Ford    Focus\n",
       "H234YH197RUS       2   6000.000000    Ford    Focus\n",
       "...              ...           ...     ...      ...\n",
       "Y163O8161RUS       2   1600.000000    Ford    Focus\n",
       "M0309X197RUS       1  22300.000000    Ford    Focus\n",
       "O673E8197RUS       2    600.000000    Ford    Focus\n",
       "8610T8154RUS       1   2000.000000    Ford    Focus\n",
       "H419XE197RUS       2   8594.586466  Toyota  Corolla\n",
       "\n",
       "[593 rows x 4 columns]"
      ]
     },
     "execution_count": 170,
     "metadata": {},
     "output_type": "execute_result"
    }
   ],
   "source": [
    "df[df[\"Model\"].isin([\"Focus\", \"Corolla\"])]"
   ]
  },
  {
   "cell_type": "markdown",
   "id": "1f3fd65d",
   "metadata": {},
   "source": [
    " * display the rows only where the car number is from the list: ```[’Y7689C197RUS’, ’92928M178RUS’, ’7788KT197RUS’, ’H115YO163RUS’, ’X758HY197RUS’]```"
   ]
  },
  {
   "cell_type": "code",
   "execution_count": 171,
   "id": "ad61a6da",
   "metadata": {},
   "outputs": [
    {
     "data": {
      "text/html": [
       "<div>\n",
       "<style scoped>\n",
       "    .dataframe tbody tr th:only-of-type {\n",
       "        vertical-align: middle;\n",
       "    }\n",
       "\n",
       "    .dataframe tbody tr th {\n",
       "        vertical-align: top;\n",
       "    }\n",
       "\n",
       "    .dataframe thead th {\n",
       "        text-align: right;\n",
       "    }\n",
       "</style>\n",
       "<table border=\"1\" class=\"dataframe\">\n",
       "  <thead>\n",
       "    <tr style=\"text-align: right;\">\n",
       "      <th></th>\n",
       "      <th>Refund</th>\n",
       "      <th>Fines</th>\n",
       "      <th>Make</th>\n",
       "      <th>Model</th>\n",
       "    </tr>\n",
       "    <tr>\n",
       "      <th>CarNumber</th>\n",
       "      <th></th>\n",
       "      <th></th>\n",
       "      <th></th>\n",
       "      <th></th>\n",
       "    </tr>\n",
       "  </thead>\n",
       "  <tbody>\n",
       "    <tr>\n",
       "      <th>92928M178RUS</th>\n",
       "      <td>1</td>\n",
       "      <td>8594.586466</td>\n",
       "      <td>Ford</td>\n",
       "      <td>Focus</td>\n",
       "    </tr>\n",
       "    <tr>\n",
       "      <th>H115YO163RUS</th>\n",
       "      <td>1</td>\n",
       "      <td>2200.000000</td>\n",
       "      <td>Ford</td>\n",
       "      <td>Focus</td>\n",
       "    </tr>\n",
       "    <tr>\n",
       "      <th>7788KT197RUS</th>\n",
       "      <td>2</td>\n",
       "      <td>12000.000000</td>\n",
       "      <td>Ford</td>\n",
       "      <td>Focus</td>\n",
       "    </tr>\n",
       "    <tr>\n",
       "      <th>X758HY197RUS</th>\n",
       "      <td>2</td>\n",
       "      <td>24200.000000</td>\n",
       "      <td>Ford</td>\n",
       "      <td>Focus</td>\n",
       "    </tr>\n",
       "    <tr>\n",
       "      <th>X758HY197RUS</th>\n",
       "      <td>2</td>\n",
       "      <td>72600.000000</td>\n",
       "      <td>Ford</td>\n",
       "      <td>Focus</td>\n",
       "    </tr>\n",
       "    <tr>\n",
       "      <th>Y7689C197RUS</th>\n",
       "      <td>1</td>\n",
       "      <td>27000.000000</td>\n",
       "      <td>Ford</td>\n",
       "      <td>Focus</td>\n",
       "    </tr>\n",
       "    <tr>\n",
       "      <th>92928M178RUS</th>\n",
       "      <td>1</td>\n",
       "      <td>600.000000</td>\n",
       "      <td>Ford</td>\n",
       "      <td>Focus</td>\n",
       "    </tr>\n",
       "    <tr>\n",
       "      <th>H115YO163RUS</th>\n",
       "      <td>1</td>\n",
       "      <td>8594.586466</td>\n",
       "      <td>Ford</td>\n",
       "      <td>Focus</td>\n",
       "    </tr>\n",
       "    <tr>\n",
       "      <th>H115YO163RUS</th>\n",
       "      <td>2</td>\n",
       "      <td>1100.000000</td>\n",
       "      <td>Ford</td>\n",
       "      <td>Focus</td>\n",
       "    </tr>\n",
       "    <tr>\n",
       "      <th>7788KT197RUS</th>\n",
       "      <td>2</td>\n",
       "      <td>8594.586466</td>\n",
       "      <td>Ford</td>\n",
       "      <td>Focus</td>\n",
       "    </tr>\n",
       "    <tr>\n",
       "      <th>7788KT197RUS</th>\n",
       "      <td>1</td>\n",
       "      <td>20000.000000</td>\n",
       "      <td>Ford</td>\n",
       "      <td>Focus</td>\n",
       "    </tr>\n",
       "    <tr>\n",
       "      <th>X758HY197RUS</th>\n",
       "      <td>2</td>\n",
       "      <td>145200.000000</td>\n",
       "      <td>Ford</td>\n",
       "      <td>Focus</td>\n",
       "    </tr>\n",
       "    <tr>\n",
       "      <th>92928M178RUS</th>\n",
       "      <td>1</td>\n",
       "      <td>1200.000000</td>\n",
       "      <td>Ford</td>\n",
       "      <td>Focus</td>\n",
       "    </tr>\n",
       "    <tr>\n",
       "      <th>Y7689C197RUS</th>\n",
       "      <td>2</td>\n",
       "      <td>9000.000000</td>\n",
       "      <td>Ford</td>\n",
       "      <td>Focus</td>\n",
       "    </tr>\n",
       "    <tr>\n",
       "      <th>Y7689C197RUS</th>\n",
       "      <td>2</td>\n",
       "      <td>45000.000000</td>\n",
       "      <td>Ford</td>\n",
       "      <td>Focus</td>\n",
       "    </tr>\n",
       "    <tr>\n",
       "      <th>7788KT197RUS</th>\n",
       "      <td>2</td>\n",
       "      <td>4000.000000</td>\n",
       "      <td>Ford</td>\n",
       "      <td>Focus</td>\n",
       "    </tr>\n",
       "    <tr>\n",
       "      <th>Y7689C197RUS</th>\n",
       "      <td>1</td>\n",
       "      <td>36000.000000</td>\n",
       "      <td>Ford</td>\n",
       "      <td>Focus</td>\n",
       "    </tr>\n",
       "    <tr>\n",
       "      <th>92928M178RUS</th>\n",
       "      <td>2</td>\n",
       "      <td>3000.000000</td>\n",
       "      <td>Ford</td>\n",
       "      <td>Focus</td>\n",
       "    </tr>\n",
       "  </tbody>\n",
       "</table>\n",
       "</div>"
      ],
      "text/plain": [
       "              Refund          Fines  Make  Model\n",
       "CarNumber                                       \n",
       "92928M178RUS       1    8594.586466  Ford  Focus\n",
       "H115YO163RUS       1    2200.000000  Ford  Focus\n",
       "7788KT197RUS       2   12000.000000  Ford  Focus\n",
       "X758HY197RUS       2   24200.000000  Ford  Focus\n",
       "X758HY197RUS       2   72600.000000  Ford  Focus\n",
       "Y7689C197RUS       1   27000.000000  Ford  Focus\n",
       "92928M178RUS       1     600.000000  Ford  Focus\n",
       "H115YO163RUS       1    8594.586466  Ford  Focus\n",
       "H115YO163RUS       2    1100.000000  Ford  Focus\n",
       "7788KT197RUS       2    8594.586466  Ford  Focus\n",
       "7788KT197RUS       1   20000.000000  Ford  Focus\n",
       "X758HY197RUS       2  145200.000000  Ford  Focus\n",
       "92928M178RUS       1    1200.000000  Ford  Focus\n",
       "Y7689C197RUS       2    9000.000000  Ford  Focus\n",
       "Y7689C197RUS       2   45000.000000  Ford  Focus\n",
       "7788KT197RUS       2    4000.000000  Ford  Focus\n",
       "Y7689C197RUS       1   36000.000000  Ford  Focus\n",
       "92928M178RUS       2    3000.000000  Ford  Focus"
      ]
     },
     "execution_count": 171,
     "metadata": {},
     "output_type": "execute_result"
    }
   ],
   "source": [
    "df[df.index.isin([\"Y7689C197RUS\", \"92928M178RUS\", \"7788KT197RUS\", \"H115YO163RUS\", \"X758HY197RUS\"])]"
   ]
  },
  {
   "cell_type": "markdown",
   "id": "1df4ebc7",
   "metadata": {},
   "source": [
    "### Make the aggregations with the make and the model\n",
    "* display the median `fines` grouped by the `make`"
   ]
  },
  {
   "cell_type": "code",
   "execution_count": 172,
   "id": "1f24ce95",
   "metadata": {},
   "outputs": [
    {
     "data": {
      "text/plain": [
       "Make\n",
       "Ford          3500.0\n",
       "Skoda         3250.0\n",
       "Toyota        7700.0\n",
       "Volkswagen    4000.0\n",
       "Name: Fines, dtype: float64"
      ]
     },
     "execution_count": 172,
     "metadata": {},
     "output_type": "execute_result"
    }
   ],
   "source": [
    "df.groupby([\"Make\"])[\"Fines\"].median()"
   ]
  },
  {
   "cell_type": "markdown",
   "id": "90a3ea40",
   "metadata": {},
   "source": [
    "* display the median `fines` grouped by the `make` and the `model`"
   ]
  },
  {
   "cell_type": "code",
   "execution_count": 173,
   "id": "ba763cd2",
   "metadata": {},
   "outputs": [
    {
     "data": {
      "text/plain": [
       "Make        Model  \n",
       "Ford        Focus      3500.0\n",
       "            Mondeo     7650.0\n",
       "Skoda       Octavia    3250.0\n",
       "Toyota      Camry      7700.0\n",
       "            Corolla    7700.0\n",
       "Volkswagen  Golf       4800.0\n",
       "            Jetta      2800.0\n",
       "            Passat     3500.0\n",
       "            Touareg    5800.0\n",
       "Name: Fines, dtype: float64"
      ]
     },
     "execution_count": 173,
     "metadata": {},
     "output_type": "execute_result"
    }
   ],
   "source": [
    "df.groupby([\"Make\", \"Model\"])[\"Fines\"].median()"
   ]
  },
  {
   "cell_type": "markdown",
   "id": "7aed5c2d",
   "metadata": {},
   "source": [
    "* display the number of `fines` grouped by the `make` and the `model` in order to understand if we can trust the median values"
   ]
  },
  {
   "cell_type": "code",
   "execution_count": 174,
   "id": "06eed700",
   "metadata": {},
   "outputs": [
    {
     "data": {
      "text/plain": [
       "Make        Model  \n",
       "Ford        Focus      575\n",
       "            Mondeo       6\n",
       "Skoda       Octavia     48\n",
       "Toyota      Camry       16\n",
       "            Corolla     18\n",
       "Volkswagen  Golf        20\n",
       "            Jetta        6\n",
       "            Passat      22\n",
       "            Touareg      5\n",
       "Name: Fines, dtype: int64"
      ]
     },
     "execution_count": 174,
     "metadata": {},
     "output_type": "execute_result"
    }
   ],
   "source": [
    "df.groupby([\"Make\", \"Model\"])[\"Fines\"].count()"
   ]
  },
  {
   "cell_type": "markdown",
   "id": "8dcfecc9",
   "metadata": {},
   "source": [
    "* display the minimum and the maximum `fines` grouped by the `make` and the `model` in order to better understand the variance"
   ]
  },
  {
   "cell_type": "code",
   "execution_count": 175,
   "id": "e612dda8",
   "metadata": {},
   "outputs": [
    {
     "data": {
      "text/html": [
       "<div>\n",
       "<style scoped>\n",
       "    .dataframe tbody tr th:only-of-type {\n",
       "        vertical-align: middle;\n",
       "    }\n",
       "\n",
       "    .dataframe tbody tr th {\n",
       "        vertical-align: top;\n",
       "    }\n",
       "\n",
       "    .dataframe thead th {\n",
       "        text-align: right;\n",
       "    }\n",
       "</style>\n",
       "<table border=\"1\" class=\"dataframe\">\n",
       "  <thead>\n",
       "    <tr style=\"text-align: right;\">\n",
       "      <th></th>\n",
       "      <th></th>\n",
       "      <th>min</th>\n",
       "      <th>max</th>\n",
       "    </tr>\n",
       "    <tr>\n",
       "      <th>Make</th>\n",
       "      <th>Model</th>\n",
       "      <th></th>\n",
       "      <th></th>\n",
       "    </tr>\n",
       "  </thead>\n",
       "  <tbody>\n",
       "    <tr>\n",
       "      <th rowspan=\"2\" valign=\"top\">Ford</th>\n",
       "      <th>Focus</th>\n",
       "      <td>100.0</td>\n",
       "      <td>180000.000000</td>\n",
       "    </tr>\n",
       "    <tr>\n",
       "      <th>Mondeo</th>\n",
       "      <td>1100.0</td>\n",
       "      <td>46200.000000</td>\n",
       "    </tr>\n",
       "    <tr>\n",
       "      <th>Skoda</th>\n",
       "      <th>Octavia</th>\n",
       "      <td>300.0</td>\n",
       "      <td>145000.000000</td>\n",
       "    </tr>\n",
       "    <tr>\n",
       "      <th rowspan=\"2\" valign=\"top\">Toyota</th>\n",
       "      <th>Camry</th>\n",
       "      <td>500.0</td>\n",
       "      <td>22400.000000</td>\n",
       "    </tr>\n",
       "    <tr>\n",
       "      <th>Corolla</th>\n",
       "      <td>900.0</td>\n",
       "      <td>34300.000000</td>\n",
       "    </tr>\n",
       "    <tr>\n",
       "      <th rowspan=\"4\" valign=\"top\">Volkswagen</th>\n",
       "      <th>Golf</th>\n",
       "      <td>200.0</td>\n",
       "      <td>168000.000000</td>\n",
       "    </tr>\n",
       "    <tr>\n",
       "      <th>Jetta</th>\n",
       "      <td>500.0</td>\n",
       "      <td>46000.000000</td>\n",
       "    </tr>\n",
       "    <tr>\n",
       "      <th>Passat</th>\n",
       "      <td>100.0</td>\n",
       "      <td>29700.000000</td>\n",
       "    </tr>\n",
       "    <tr>\n",
       "      <th>Touareg</th>\n",
       "      <td>500.0</td>\n",
       "      <td>8594.586466</td>\n",
       "    </tr>\n",
       "  </tbody>\n",
       "</table>\n",
       "</div>"
      ],
      "text/plain": [
       "                       min            max\n",
       "Make       Model                         \n",
       "Ford       Focus     100.0  180000.000000\n",
       "           Mondeo   1100.0   46200.000000\n",
       "Skoda      Octavia   300.0  145000.000000\n",
       "Toyota     Camry     500.0   22400.000000\n",
       "           Corolla   900.0   34300.000000\n",
       "Volkswagen Golf      200.0  168000.000000\n",
       "           Jetta     500.0   46000.000000\n",
       "           Passat    100.0   29700.000000\n",
       "           Touareg   500.0    8594.586466"
      ]
     },
     "execution_count": 175,
     "metadata": {},
     "output_type": "execute_result"
    }
   ],
   "source": [
    "df.groupby([\"Make\", \"Model\"])[\"Fines\"].agg([\"min\", \"max\"])"
   ]
  },
  {
   "cell_type": "markdown",
   "id": "1e5931bc",
   "metadata": {},
   "source": [
    "* display the standard deviation of the `fines` grouped by the `make` and the `model` in order to better understand the variance"
   ]
  },
  {
   "cell_type": "code",
   "execution_count": 176,
   "id": "93e73513",
   "metadata": {},
   "outputs": [
    {
     "data": {
      "text/plain": [
       "Make        Model  \n",
       "Ford        Focus      15041.269437\n",
       "            Mondeo     18987.329108\n",
       "Skoda       Octavia    24339.742174\n",
       "Toyota      Camry       6410.250654\n",
       "            Corolla     9629.325617\n",
       "Volkswagen  Golf       36950.839950\n",
       "            Jetta      17743.026799\n",
       "            Passat      6969.739135\n",
       "            Touareg     3461.778173\n",
       "Name: Fines, dtype: float64"
      ]
     },
     "execution_count": 176,
     "metadata": {},
     "output_type": "execute_result"
    }
   ],
   "source": [
    "df.groupby([\"Make\", \"Model\"])[\"Fines\"].std()"
   ]
  },
  {
   "cell_type": "markdown",
   "id": "2850319f",
   "metadata": {},
   "source": [
    "### Make the aggregations with the car number\n",
    "* display the car numbers grouped by the number of the `fines` in descending order, we want to find those who most often violated the law"
   ]
  },
  {
   "cell_type": "code",
   "execution_count": 177,
   "id": "c4f53efb",
   "metadata": {},
   "outputs": [
    {
     "data": {
      "text/plain": [
       "CarNumber\n",
       "Y7689C197RUS    4\n",
       "7788KT197RUS    4\n",
       "92928M178RUS    4\n",
       "Y7129Y50RUS     3\n",
       "X758HY197RUS    3\n",
       "               ..\n",
       "Y967O8197RUS    1\n",
       "Y965O8197RUS    1\n",
       "Y965EE197RUS    1\n",
       "Y964O8197RUS    1\n",
       "Y964EE197RUS    1\n",
       "Name: Fines, Length: 531, dtype: int64"
      ]
     },
     "execution_count": 177,
     "metadata": {},
     "output_type": "execute_result"
    }
   ],
   "source": [
    "df.groupby([\"CarNumber\"])[\"Fines\"].count().sort_values(ascending=False)"
   ]
  },
  {
   "cell_type": "markdown",
   "id": "4321b4e6",
   "metadata": {},
   "source": [
    "* select from the initial dataframe all the rows corresponding to the top-1 car number, we want to zoom in a little bit"
   ]
  },
  {
   "cell_type": "code",
   "execution_count": 178,
   "id": "f515eaf3",
   "metadata": {},
   "outputs": [
    {
     "data": {
      "text/plain": [
       "'7788KT197RUS'"
      ]
     },
     "execution_count": 178,
     "metadata": {},
     "output_type": "execute_result"
    }
   ],
   "source": [
    "df.groupby([\"CarNumber\"])[\"Fines\"].count().idxmax()"
   ]
  },
  {
   "cell_type": "markdown",
   "id": "9ec97c75",
   "metadata": {},
   "source": [
    "* display the car numbers grouped by the sum of the `fines` in descending order, we want to find those who paid the most"
   ]
  },
  {
   "cell_type": "code",
   "execution_count": 179,
   "id": "9790e7b0",
   "metadata": {},
   "outputs": [
    {
     "data": {
      "text/plain": [
       "CarNumber\n",
       "X758HY197RUS    242000.0\n",
       "9020YC197RUS    217500.0\n",
       "M0279X197RUS    216000.0\n",
       "Y352O8197RUS    207200.0\n",
       "Y778EE197RUS    192000.0\n",
       "                  ...   \n",
       "Y166O8161RUS       100.0\n",
       "K326T8197RUS       100.0\n",
       "Y195O8161RUS       100.0\n",
       "C58078163RUS       100.0\n",
       "705787163RUS       100.0\n",
       "Name: Fines, Length: 531, dtype: float64"
      ]
     },
     "execution_count": 179,
     "metadata": {},
     "output_type": "execute_result"
    }
   ],
   "source": [
    "df.groupby([\"CarNumber\"])[\"Fines\"].sum().sort_values(ascending=False)"
   ]
  },
  {
   "cell_type": "markdown",
   "id": "627f0544",
   "metadata": {},
   "source": [
    "* select from the initial dataframe all the rows corresponding to the top-1 car number, we want to zoom in a little bit"
   ]
  },
  {
   "cell_type": "code",
   "execution_count": 180,
   "id": "a44f20c0",
   "metadata": {},
   "outputs": [
    {
     "data": {
      "text/plain": [
       "'X758HY197RUS'"
      ]
     },
     "execution_count": 180,
     "metadata": {},
     "output_type": "execute_result"
    }
   ],
   "source": [
    "df.groupby([\"CarNumber\"])[\"Fines\"].sum().sort_values(ascending=False).idxmax()"
   ]
  },
  {
   "cell_type": "markdown",
   "id": "7dcfed2d",
   "metadata": {},
   "source": [
    " * display a table that answers the question: are there any car numbers that were connected to different models?"
   ]
  },
  {
   "cell_type": "code",
   "execution_count": 183,
   "id": "15d65a2c",
   "metadata": {},
   "outputs": [
    {
     "data": {
      "text/plain": [
       "CarNumber\n",
       "704687163RUS    1\n",
       "704787163RUS    1\n",
       "704987163RUS    1\n",
       "705287163RUS    1\n",
       "705387163RUS    1\n",
       "               ..\n",
       "Y965O8197RUS    1\n",
       "Y966O8197RUS    1\n",
       "Y967O8197RUS    1\n",
       "Y969O8197RUS    1\n",
       "Y973O8197RUS    1\n",
       "Name: Model, Length: 531, dtype: int64"
      ]
     },
     "execution_count": 183,
     "metadata": {},
     "output_type": "execute_result"
    }
   ],
   "source": [
    "df.groupby(\"CarNumber\")[\"Model\"].nunique()"
   ]
  }
 ],
 "metadata": {
  "kernelspec": {
   "display_name": "nilahugh",
   "language": "python",
   "name": "python3"
  },
  "language_info": {
   "codemirror_mode": {
    "name": "ipython",
    "version": 3
   },
   "file_extension": ".py",
   "mimetype": "text/x-python",
   "name": "python",
   "nbconvert_exporter": "python",
   "pygments_lexer": "ipython3",
   "version": "3.12.3"
  }
 },
 "nbformat": 4,
 "nbformat_minor": 5
}
