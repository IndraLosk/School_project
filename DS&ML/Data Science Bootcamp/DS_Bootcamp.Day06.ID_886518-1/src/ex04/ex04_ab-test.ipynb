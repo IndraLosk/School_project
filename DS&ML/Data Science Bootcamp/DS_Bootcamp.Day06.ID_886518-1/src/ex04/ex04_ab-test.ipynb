{
 "cells": [
  {
   "cell_type": "markdown",
   "id": "078dafef",
   "metadata": {},
   "source": [
    "### Exercise 04 : A/B-testing\n",
    "* create a connection to the database using the library sqlite3"
   ]
  },
  {
   "cell_type": "code",
   "execution_count": 1,
   "id": "056b8408",
   "metadata": {},
   "outputs": [],
   "source": [
    "import pandas as pd\n",
    "import sqlite3\n",
    "\n",
    "connection = sqlite3.connect(\"../data/checking-logs.sqlite\")"
   ]
  },
  {
   "cell_type": "markdown",
   "id": "6d54da58",
   "metadata": {},
   "source": [
    "* using only one query for each of the groups, create two dataframes: test_results\n",
    "and control_results with the columns time and avg_diff and only two rows\n",
    "  * time should have the values: after and before\n",
    "  * avg_diff contains the average delta among all the users for the time period\n",
    "  before each of them made their first visit to the page and afterward\n",
    "  * only take into account the users that have observations before and after\n",
    "* we still are not using the lab ’project1’"
   ]
  },
  {
   "cell_type": "code",
   "execution_count": 2,
   "id": "350adbdc",
   "metadata": {},
   "outputs": [
    {
     "data": {
      "text/html": [
       "<div>\n",
       "<style scoped>\n",
       "    .dataframe tbody tr th:only-of-type {\n",
       "        vertical-align: middle;\n",
       "    }\n",
       "\n",
       "    .dataframe tbody tr th {\n",
       "        vertical-align: top;\n",
       "    }\n",
       "\n",
       "    .dataframe thead th {\n",
       "        text-align: right;\n",
       "    }\n",
       "</style>\n",
       "<table border=\"1\" class=\"dataframe\">\n",
       "  <thead>\n",
       "    <tr style=\"text-align: right;\">\n",
       "      <th></th>\n",
       "      <th>time</th>\n",
       "      <th>avg_delta</th>\n",
       "    </tr>\n",
       "  </thead>\n",
       "  <tbody>\n",
       "    <tr>\n",
       "      <th>0</th>\n",
       "      <td>after</td>\n",
       "      <td>-103.40625</td>\n",
       "    </tr>\n",
       "    <tr>\n",
       "      <th>1</th>\n",
       "      <td>before</td>\n",
       "      <td>-60.56250</td>\n",
       "    </tr>\n",
       "  </tbody>\n",
       "</table>\n",
       "</div>"
      ],
      "text/plain": [
       "     time  avg_delta\n",
       "0   after -103.40625\n",
       "1  before  -60.56250"
      ]
     },
     "execution_count": 2,
     "metadata": {},
     "output_type": "execute_result"
    }
   ],
   "source": [
    "query = \"\"\"SELECT time, AVG(delta) AS avg_delta\n",
    "            FROM \n",
    "            (SELECT CAST((julianday(some.first_commit_ts) - julianday(datetime(d.deadlines, 'unixepoch'))) * 24 AS INTEGER) AS delta,\n",
    "                CASE \n",
    "                    WHEN first_commit_ts < first_view_ts THEN \"before\"\n",
    "                    ELSE \"after\"\n",
    "                END AS time\n",
    "            FROM\n",
    "                (SELECT uid, MIN(first_view_ts) AS first_view_ts FROM test GROUP BY uid) AS befor\n",
    "            JOIN\n",
    "                (SELECT uid, labname, MIN(first_commit_ts)AS first_commit_ts \n",
    "                FROM test \n",
    "                WHERE NOT labname = \"project1\" \n",
    "                GROUP BY uid, labname) AS some\n",
    "            \n",
    "            ON befor.uid = some.uid\n",
    "            JOIN \n",
    "                deadlines d ON some.labname = d.labs)\n",
    "            GROUP BY time\n",
    "            \"\"\"\n",
    "test_result = pd.io.sql.read_sql(query, connection)\n",
    "test_result"
   ]
  },
  {
   "cell_type": "code",
   "execution_count": 3,
   "id": "c58bf83a",
   "metadata": {},
   "outputs": [
    {
     "data": {
      "text/html": [
       "<div>\n",
       "<style scoped>\n",
       "    .dataframe tbody tr th:only-of-type {\n",
       "        vertical-align: middle;\n",
       "    }\n",
       "\n",
       "    .dataframe tbody tr th {\n",
       "        vertical-align: top;\n",
       "    }\n",
       "\n",
       "    .dataframe thead th {\n",
       "        text-align: right;\n",
       "    }\n",
       "</style>\n",
       "<table border=\"1\" class=\"dataframe\">\n",
       "  <thead>\n",
       "    <tr style=\"text-align: right;\">\n",
       "      <th></th>\n",
       "      <th>time</th>\n",
       "      <th>avg_delta</th>\n",
       "    </tr>\n",
       "  </thead>\n",
       "  <tbody>\n",
       "    <tr>\n",
       "      <th>0</th>\n",
       "      <td>after</td>\n",
       "      <td>-112.710526</td>\n",
       "    </tr>\n",
       "    <tr>\n",
       "      <th>1</th>\n",
       "      <td>before</td>\n",
       "      <td>-99.464286</td>\n",
       "    </tr>\n",
       "  </tbody>\n",
       "</table>\n",
       "</div>"
      ],
      "text/plain": [
       "     time   avg_delta\n",
       "0   after -112.710526\n",
       "1  before  -99.464286"
      ]
     },
     "execution_count": 3,
     "metadata": {},
     "output_type": "execute_result"
    }
   ],
   "source": [
    "query = \"\"\"SELECT time, AVG(delta) AS avg_delta\n",
    "            FROM \n",
    "            (SELECT CAST((julianday(some.first_commit_ts) - julianday(datetime(d.deadlines, 'unixepoch'))) * 24 AS INTEGER) AS delta,\n",
    "                CASE \n",
    "                    WHEN first_commit_ts < first_view_ts THEN \"before\"\n",
    "                    ELSE \"after\"\n",
    "                END AS time\n",
    "            FROM\n",
    "                (SELECT uid, MIN(first_view_ts) AS first_view_ts FROM control GROUP BY uid) AS befor\n",
    "            JOIN\n",
    "                (SELECT uid, labname, MIN(first_commit_ts)AS first_commit_ts \n",
    "                FROM control \n",
    "                WHERE NOT labname = \"project1\" \n",
    "                GROUP BY uid, labname) AS some\n",
    "            \n",
    "            ON befor.uid = some.uid\n",
    "            JOIN \n",
    "                deadlines d ON some.labname = d.labs)\n",
    "            GROUP BY time\n",
    "            \"\"\"\n",
    "control_results = pd.io.sql.read_sql(query, connection)\n",
    "control_results"
   ]
  }
 ],
 "metadata": {
  "kernelspec": {
   "display_name": "nilahugh",
   "language": "python",
   "name": "python3"
  },
  "language_info": {
   "codemirror_mode": {
    "name": "ipython",
    "version": 3
   },
   "file_extension": ".py",
   "mimetype": "text/x-python",
   "name": "python",
   "nbconvert_exporter": "python",
   "pygments_lexer": "ipython3",
   "version": "3.12.3"
  }
 },
 "nbformat": 4,
 "nbformat_minor": 5
}
