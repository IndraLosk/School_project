{
 "cells": [
  {
   "cell_type": "markdown",
   "id": "fa6d8f29",
   "metadata": {},
   "source": [
    "### Exercise 04 : Histogram\n",
    "* analyze only the users and not the admins\n",
    "* create two lists of values (for working days and for weekends) for the histogram\n",
    "input\n",
    "* the figsize is still the same, you can choose the fontsize as well as the color palette\n",
    "* use a level of transparency for the histogram in front equal to 0.7"
   ]
  },
  {
   "cell_type": "code",
   "execution_count": 353,
   "id": "8c6c4c22",
   "metadata": {},
   "outputs": [],
   "source": [
    "import pandas as pd\n",
    "import sqlite3\n",
    "import matplotlib.pyplot as plt\n",
    "\n",
    "connection = sqlite3.connect(\"../data/checking-logs.sqlite\")\n",
    "query = \"SELECT timestamp FROM checker WHERE uid LIKE 'user_%'\"\n",
    "df = pd.io.sql.read_sql(query, connection, parse_dates=\"timestamp\")\n",
    "df[\"hour\"] = df[\"timestamp\"].dt.hour\n",
    "df[\"weekday\"] = df[\"timestamp\"].dt.weekday\n",
    "df[\"weekend\"] = df[\"weekday\"] >= 5"
   ]
  },
  {
   "cell_type": "code",
   "execution_count": 354,
   "id": "89bc3d7c",
   "metadata": {},
   "outputs": [
    {
     "data": {
      "text/plain": [
       "0        5\n",
       "1        5\n",
       "2        5\n",
       "3        5\n",
       "4        5\n",
       "        ..\n",
       "2032    20\n",
       "2033    20\n",
       "2034    20\n",
       "2035    20\n",
       "2036    20\n",
       "Name: hour, Length: 2037, dtype: int32"
      ]
     },
     "execution_count": 354,
     "metadata": {},
     "output_type": "execute_result"
    }
   ],
   "source": [
    "working_day = df.loc[~df[\"weekend\"], \"hour\"].reset_index(drop=True)\n",
    "working_day"
   ]
  },
  {
   "cell_type": "code",
   "execution_count": 355,
   "id": "2d10be2c",
   "metadata": {},
   "outputs": [
    {
     "data": {
      "text/plain": [
       "0        7\n",
       "1       13\n",
       "2       13\n",
       "3       13\n",
       "4       13\n",
       "        ..\n",
       "1165    22\n",
       "1166    22\n",
       "1167    22\n",
       "1168    22\n",
       "1169    22\n",
       "Name: hour, Length: 1170, dtype: int32"
      ]
     },
     "execution_count": 355,
     "metadata": {},
     "output_type": "execute_result"
    }
   ],
   "source": [
    "weekend = df.loc[df[\"weekend\"], \"hour\"].reset_index(drop=True)\n",
    "weekend"
   ]
  },
  {
   "cell_type": "code",
   "execution_count": 356,
   "id": "e37e7e2d",
   "metadata": {},
   "outputs": [
    {
     "data": {
      "image/png": "[encoded data removed]",
      "text/plain": [
       "<Figure size 1500x800 with 1 Axes>"
      ]
     },
     "metadata": {},
     "output_type": "display_data"
    }
   ],
   "source": [
    "plt.figure(figsize=(15, 8))\n",
    "plt.xlim(0, 23)\n",
    "plt.hist(working_day, bins=24, alpha=0.7, color='skyblue', label='working days')\n",
    "plt.hist(weekend, bins=24, alpha=0.7, color='red', label='weekend')\n",
    "plt.title(\"Commits per hour\")\n",
    "plt.legend()\n",
    "plt.show()"
   ]
  },
  {
   "cell_type": "markdown",
   "id": "cb0b7000",
   "metadata": {},
   "source": [
    "* at the end of your Jupyter Notebook, create a markdown cell and insert the question:\n",
    "“Are there hours when the total number of commits was higher on weekends than\n",
    "on working days?” In your answer, put the top-4 examples."
   ]
  },
  {
   "cell_type": "markdown",
   "id": "508e1939",
   "metadata": {},
   "source": [
    "Are there hours when the total number of commits was higher on weekends than\n",
    "on working days?"
   ]
  },
  {
   "cell_type": "code",
   "execution_count": 357,
   "id": "c3608a6a",
   "metadata": {},
   "outputs": [
    {
     "data": {
      "text/html": [
       "<div>\n",
       "<style scoped>\n",
       "    .dataframe tbody tr th:only-of-type {\n",
       "        vertical-align: middle;\n",
       "    }\n",
       "\n",
       "    .dataframe tbody tr th {\n",
       "        vertical-align: top;\n",
       "    }\n",
       "\n",
       "    .dataframe thead th {\n",
       "        text-align: right;\n",
       "    }\n",
       "</style>\n",
       "<table border=\"1\" class=\"dataframe\">\n",
       "  <thead>\n",
       "    <tr style=\"text-align: right;\">\n",
       "      <th></th>\n",
       "      <th>hour</th>\n",
       "      <th>size_hour_wend</th>\n",
       "      <th>size_hour_wwork</th>\n",
       "    </tr>\n",
       "  </thead>\n",
       "  <tbody>\n",
       "    <tr>\n",
       "      <th>8</th>\n",
       "      <td>11</td>\n",
       "      <td>118</td>\n",
       "      <td>88</td>\n",
       "    </tr>\n",
       "    <tr>\n",
       "      <th>10</th>\n",
       "      <td>13</td>\n",
       "      <td>108</td>\n",
       "      <td>73</td>\n",
       "    </tr>\n",
       "    <tr>\n",
       "      <th>19</th>\n",
       "      <td>22</td>\n",
       "      <td>59</td>\n",
       "      <td>45</td>\n",
       "    </tr>\n",
       "    <tr>\n",
       "      <th>20</th>\n",
       "      <td>23</td>\n",
       "      <td>32</td>\n",
       "      <td>15</td>\n",
       "    </tr>\n",
       "  </tbody>\n",
       "</table>\n",
       "</div>"
      ],
      "text/plain": [
       "    hour  size_hour_wend  size_hour_wwork\n",
       "8     11             118               88\n",
       "10    13             108               73\n",
       "19    22              59               45\n",
       "20    23              32               15"
      ]
     },
     "execution_count": 357,
     "metadata": {},
     "output_type": "execute_result"
    }
   ],
   "source": [
    "working_day = working_day.to_frame()\n",
    "weekend = weekend.to_frame()\n",
    "working_day_size = working_day.groupby(\"hour\").size().reset_index(name=\"size_hour_wwork\")\n",
    "hours = weekend.groupby(\"hour\").size().reset_index(name=\"size_hour_wend\")\n",
    "hours[\"size_hour_wwork\"] =  working_day_size[\"size_hour_wwork\"]\n",
    "hours.sort_values(\"size_hour_wend\", inplace=True, ascending=False)\n",
    "top_hours = hours[hours[\"size_hour_wend\"] > hours[\"size_hour_wwork\"]]\n",
    "top_hours.head(4)\n",
    "\n"
   ]
  },
  {
   "cell_type": "markdown",
   "id": "a8346931",
   "metadata": {},
   "source": [
    "The answer: 11, 13, 22, 23"
   ]
  },
  {
   "cell_type": "code",
   "execution_count": 358,
   "id": "718d2209",
   "metadata": {},
   "outputs": [],
   "source": [
    "connection.close()"
   ]
  }
 ],
 "metadata": {
  "kernelspec": {
   "display_name": "nilahugh",
   "language": "python",
   "name": "python3"
  },
  "language_info": {
   "codemirror_mode": {
    "name": "ipython",
    "version": 3
   },
   "file_extension": ".py",
   "mimetype": "text/x-python",
   "name": "python",
   "nbconvert_exporter": "python",
   "pygments_lexer": "ipython3",
   "version": "3.12.3"
  }
 },
 "nbformat": 4,
 "nbformat_minor": 5
}
