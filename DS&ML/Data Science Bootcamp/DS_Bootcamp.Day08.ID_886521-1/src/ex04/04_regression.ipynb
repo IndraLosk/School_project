{
 "cells": [
  {
   "cell_type": "markdown",
   "metadata": {},
   "source": [
    "# Day 08. Exercise 04\n",
    "# Regression"
   ]
  },
  {
   "cell_type": "markdown",
   "metadata": {},
   "source": [
    "## 0. Imports"
   ]
  },
  {
   "cell_type": "code",
   "execution_count": 1,
   "metadata": {},
   "outputs": [],
   "source": [
    "import pandas as pd\n",
    "from sklearn.model_selection import KFold\n",
    "from sklearn.model_selection import train_test_split\n",
    "from sklearn.linear_model import LinearRegression\n",
    "from sklearn.tree import DecisionTreeRegressor\n",
    "from sklearn.ensemble import RandomForestRegressor\n",
    "from sklearn.metrics import mean_squared_error\n",
    "import matplotlib.pyplot as plt"
   ]
  },
  {
   "cell_type": "markdown",
   "metadata": {},
   "source": [
    "## 1. Preprocessing"
   ]
  },
  {
   "cell_type": "markdown",
   "metadata": {},
   "source": [
    "1. Read the file [`checker_regression.csv`](https://drive.google.com/file/d/1L8auBzJEghWFewznhhFpcrqxW4GqcfRY/view?usp=sharing).\n",
    "2. Fill the missing values in it with `0`.\n",
    "3. Make a split of your dataset on train and test with parameters `test_size=0.2`."
   ]
  },
  {
   "cell_type": "code",
   "execution_count": 2,
   "metadata": {},
   "outputs": [
    {
     "name": "stdout",
     "output_type": "stream",
     "text": [
      "<class 'pandas.core.frame.DataFrame'>\n",
      "Int64Index: 29 entries, 0 to 76\n",
      "Data columns (total 4 columns):\n",
      " #   Column       Non-Null Count  Dtype  \n",
      "---  ------       --------------  -----  \n",
      " 0   uid          29 non-null     object \n",
      " 1   num_commits  29 non-null     int64  \n",
      " 2   pageviews    29 non-null     float64\n",
      " 3   AVG(diff)    29 non-null     float64\n",
      "dtypes: float64(2), int64(1), object(1)\n",
      "memory usage: 1.1+ KB\n"
     ]
    }
   ],
   "source": [
    "df = pd.read_csv(\"../data/checker_regression.csv\")\n",
    "df.fillna(0, inplace=True)\n",
    "df.drop_duplicates(inplace=True)\n",
    "df.info()"
   ]
  },
  {
   "cell_type": "code",
   "execution_count": 3,
   "metadata": {},
   "outputs": [],
   "source": [
    "x = df[[\"num_commits\", \"pageviews\"]]\n",
    "y = df[\"AVG(diff)\"]\n",
    "x_train, x_test, y_train, y_test = train_test_split(x, y, test_size=0.2, random_state=21)"
   ]
  },
  {
   "cell_type": "markdown",
   "metadata": {},
   "source": [
    "## 2. Crossvalidation"
   ]
  },
  {
   "cell_type": "markdown",
   "metadata": {},
   "source": [
    "1. Write a function `crossval` that takes as arguments: `n_splits` for `KFold()`, `X`, `y`, model instantiated class with the parameters of the model (keep in mind: `random_state=21`) and returns for a given model class a result like this:\n",
    "\n",
    "```\n",
    "train -  2696.4496895424836   |   test -  1589.9979527104958\n",
    "train -  2660.957874001452   |   test -  2075.102636027137\n",
    "train -  2847.315529246795   |   test -  320.911928168403\n",
    "train -  2500.7691099659237   |   test -  4132.461382030178\n",
    "train -  2643.927917295123   |   test -  2237.8140952197878\n",
    "train -  2396.295678819444   |   test -  4509.650064742476\n",
    "train -  2003.402267924976   |   test -  8403.491474908551\n",
    "train -  2531.876094212613   |   test -  3135.944102735099\n",
    "train -  2683.1795186023123   |   test -  1796.01426292594\n",
    "train -  2537.1192483996338   |   test -  3439.29824116941\n",
    "Average RMSE on crossval is 3164.0686140637476\n",
    "```\n",
    "\n",
    "2. Run the function for `LinearRegression`, `DecisionTreeRegressor`, `RandomForestRegressor`. You may choose the parameters by yourself, but find the good enough for you."
   ]
  },
  {
   "cell_type": "code",
   "execution_count": 4,
   "metadata": {},
   "outputs": [],
   "source": [
    "def crossval(n_splits, x, y, model):\n",
    "    kf = KFold(n_splits=n_splits, shuffle=True, random_state=21)\n",
    "    rmse = 0\n",
    "\n",
    "    for train_index, test_index in kf.split(x):\n",
    "        x_train, x_test = x.iloc[train_index], x.iloc[test_index]\n",
    "        y_train, y_test = y.iloc[train_index], y.iloc[test_index]\n",
    "        model.fit(x_train, y_train)\n",
    "        predicts_train = model.predict(x_train)\n",
    "        predicts_test = model.predict(x_test)\n",
    "        rmse_train = mean_squared_error(y_train, predicts_train, squared=False)\n",
    "        rmse_test = mean_squared_error(y_test, predicts_test, squared=False)\n",
    "        print(f\"train -  {rmse_train}   |   test -  {rmse_test}\")\n",
    "        rmse = rmse + rmse_train + rmse_test\n",
    "\n",
    "    rmse = rmse / (n_splits * 2)\n",
    "    print(f\"Average RMSE on crossval is {rmse}\")\n",
    "    return model\n",
    "\n"
   ]
  },
  {
   "cell_type": "code",
   "execution_count": 5,
   "metadata": {},
   "outputs": [
    {
     "name": "stdout",
     "output_type": "stream",
     "text": [
      "train -  53.33351096491692   |   test -  115.2394318363867\n",
      "train -  62.409919772255556   |   test -  69.3580879473302\n",
      "train -  64.75146423244131   |   test -  52.395419621714424\n",
      "train -  64.04094981627755   |   test -  78.18810821407223\n",
      "train -  63.574089717062186   |   test -  58.669554693832154\n",
      "train -  65.40154560181439   |   test -  32.100688546741225\n",
      "train -  64.40600245557161   |   test -  48.59322878192214\n",
      "train -  61.21547266380472   |   test -  82.41734194163651\n",
      "train -  64.69372263304507   |   test -  43.81163345544472\n",
      "train -  62.80195740062015   |   test -  70.47228900535454\n",
      "Average RMSE on crossval is 63.89372096511221\n"
     ]
    }
   ],
   "source": [
    "model_lr = LinearRegression()\n",
    "model_lr = crossval(10, x_train, y_train, model_lr)"
   ]
  },
  {
   "cell_type": "code",
   "execution_count": 6,
   "metadata": {},
   "outputs": [
    {
     "name": "stdout",
     "output_type": "stream",
     "text": [
      "train -  19.756827933653724   |   test -  63.2101257711136\n",
      "train -  20.876122724299165   |   test -  82.25810891019488\n",
      "train -  22.063461184602122   |   test -  11.518137870333035\n",
      "train -  21.742264634314694   |   test -  8.60313250443633\n",
      "train -  15.222075077495283   |   test -  80.25661966467314\n",
      "train -  21.569529200867827   |   test -  15.202795795510772\n",
      "train -  21.347979223599054   |   test -  40.58792924010783\n",
      "train -  21.569529200867827   |   test -  37.190388543278225\n",
      "train -  20.39538654519797   |   test -  30.8121779902038\n",
      "train -  13.121372766613382   |   test -  69.11968786098502\n",
      "Average RMSE on crossval is 31.82118263211738\n"
     ]
    }
   ],
   "source": [
    "model_tree = DecisionTreeRegressor(max_depth=4, random_state=21)\n",
    "model_tree = crossval(10, x_train, y_train, model_tree)"
   ]
  },
  {
   "cell_type": "code",
   "execution_count": 7,
   "metadata": {},
   "outputs": [
    {
     "name": "stdout",
     "output_type": "stream",
     "text": [
      "train -  19.85306588532919   |   test -  76.53685427174808\n",
      "train -  22.671373358544045   |   test -  81.61793883314117\n",
      "train -  21.694829255044976   |   test -  5.71235319286195\n",
      "train -  22.7272784086383   |   test -  9.177142450433891\n",
      "train -  24.38477655695876   |   test -  70.14702143355767\n",
      "train -  19.90791216218836   |   test -  40.07320878716852\n",
      "train -  20.52570355431141   |   test -  55.68347292110613\n",
      "train -  22.325869971584417   |   test -  22.92156316416678\n",
      "train -  18.972031532693418   |   test -  26.447489505149523\n",
      "train -  16.687043596636038   |   test -  69.28195592288081\n",
      "Average RMSE on crossval is 33.36744423820717\n"
     ]
    }
   ],
   "source": [
    "model_forest = RandomForestRegressor(n_estimators=100, max_depth=25, random_state=21)\n",
    "model_forest = crossval(10, x_train, y_train, model_forest)"
   ]
  },
  {
   "cell_type": "markdown",
   "metadata": {},
   "source": [
    "## 3. Predictions and evaluation"
   ]
  },
  {
   "cell_type": "markdown",
   "metadata": {},
   "source": [
    "1. Make predictions for the test dataset using each of the three models with the finalized parameters.\n",
    "2. Draw a plot for each of the models where the `x-axis` is the actual average difference and the `y-axis` is the prediction made by a model.\n",
    "3. How would plot look like in the ideal case? Put the answer to the markdown cell in the end of the section."
   ]
  },
  {
   "cell_type": "code",
   "execution_count": 8,
   "metadata": {},
   "outputs": [
    {
     "data": {
      "image/png": "[encoded data removed]",
      "text/plain": [
       "<Figure size 1080x576 with 1 Axes>"
      ]
     },
     "metadata": {
      "needs_background": "light"
     },
     "output_type": "display_data"
    }
   ],
   "source": [
    "predict_lr = model_lr.predict(x_test)\n",
    "plt.figure(figsize=(15,8))\n",
    "plt.scatter(y_test, predict_lr)\n",
    "plt.show()"
   ]
  },
  {
   "cell_type": "code",
   "execution_count": 9,
   "metadata": {},
   "outputs": [
    {
     "data": {
      "image/png": "[encoded data removed]",
      "text/plain": [
       "<Figure size 1080x576 with 1 Axes>"
      ]
     },
     "metadata": {
      "needs_background": "light"
     },
     "output_type": "display_data"
    }
   ],
   "source": [
    "predict_tree = model_tree.predict(x_test)\n",
    "plt.figure(figsize=(15,8))\n",
    "plt.scatter(y_test, predict_tree)\n",
    "plt.show()"
   ]
  },
  {
   "cell_type": "code",
   "execution_count": 10,
   "metadata": {},
   "outputs": [
    {
     "data": {
      "image/png": "[encoded data removed]",
      "text/plain": [
       "<Figure size 1080x576 with 1 Axes>"
      ]
     },
     "metadata": {
      "needs_background": "light"
     },
     "output_type": "display_data"
    }
   ],
   "source": [
    "predict_forest = model_forest.predict(x_test)\n",
    "plt.figure(figsize=(15,8))\n",
    "plt.scatter(y_test, predict_forest)\n",
    "plt.show()"
   ]
  },
  {
   "cell_type": "markdown",
   "metadata": {},
   "source": [
    "The answer: in the ideal case it would be a diagonal "
   ]
  }
 ],
 "metadata": {
  "kernelspec": {
   "display_name": "py36env",
   "language": "python",
   "name": "python3"
  },
  "language_info": {
   "codemirror_mode": {
    "name": "ipython",
    "version": 3
   },
   "file_extension": ".py",
   "mimetype": "text/x-python",
   "name": "python",
   "nbconvert_exporter": "python",
   "pygments_lexer": "ipython3",
   "version": "3.6.13"
  }
 },
 "nbformat": 4,
 "nbformat_minor": 4
}
