{
 "cells": [
  {
   "cell_type": "markdown",
   "metadata": {},
   "source": [
    "# Day 09. Exercise 03\n",
    "# Ensembles"
   ]
  },
  {
   "cell_type": "markdown",
   "metadata": {},
   "source": [
    "## 0. Imports"
   ]
  },
  {
   "cell_type": "code",
   "execution_count": null,
   "metadata": {},
   "outputs": [],
   "source": [
    "import pandas as pd\n",
    "from sklearn.model_selection import train_test_split, GridSearchCV, StratifiedKFold\n",
    "from sklearn.svm import SVC\n",
    "from sklearn.tree import DecisionTreeClassifier\n",
    "from sklearn.ensemble import RandomForestClassifier\n",
    "from sklearn.metrics import accuracy_score, precision_score, recall_score\n",
    "from sklearn.ensemble import VotingClassifier, BaggingClassifier, StackingClassifier\n",
    "from sklearn.linear_model import LogisticRegression\n",
    "from joblib import dump"
   ]
  },
  {
   "cell_type": "markdown",
   "metadata": {},
   "source": [
    "## 1. Preprocessing"
   ]
  },
  {
   "cell_type": "markdown",
   "metadata": {},
   "source": [
    "1. Create the same dataframe as in the previous exercise.\n",
    "2. Using `train_test_split` with parameters `test_size=0.2`, `random_state=21` get `X_train`, `y_train`, `X_test`, `y_test` and then get `X_train`, `y_train`, `X_valid`, `y_valid` from the previous `X_train`, `y_train`. Use the additional parameter `stratify`."
   ]
  },
  {
   "cell_type": "code",
   "execution_count": 142,
   "metadata": {},
   "outputs": [],
   "source": [
    "df = pd.read_csv(\"../data/day-of-week-not-scaled.csv\")\n",
    "df[\"dayofweek\"] = pd.read_csv(\"../data/dayofweek.csv\", usecols=[\"dayofweek\"])\n",
    "\n",
    "x = df.drop(columns=\"dayofweek\")\n",
    "y = df[\"dayofweek\"]\n",
    "x_train, x_test, y_train, y_test = train_test_split(x, y, test_size=0.2, random_state=21, stratify=y)"
   ]
  },
  {
   "cell_type": "markdown",
   "metadata": {},
   "source": [
    "## 2. Individual classifiers"
   ]
  },
  {
   "cell_type": "markdown",
   "metadata": {},
   "source": [
    "1. Train SVM, decision tree and random forest again with the best parameters that you got from the 01 exercise with `random_state=21` for all of them.\n",
    "2. Evaluate `accuracy`, `precision`, and `recall` for them on the validation set.\n",
    "3. The result of each cell of the section should look like this:\n",
    "\n",
    "```\n",
    "accuracy is 0.87778\n",
    "precision is 0.88162\n",
    "recall is 0.87778\n",
    "```"
   ]
  },
  {
   "cell_type": "code",
   "execution_count": 143,
   "metadata": {},
   "outputs": [
    {
     "name": "stdout",
     "output_type": "stream",
     "text": [
      "accuracy is 0.88757\n",
      "precision is 0.89267\n",
      "recall is 0.88757\n"
     ]
    }
   ],
   "source": [
    "model_svc = SVC(random_state=21, C=10, class_weight=None, gamma=\"auto\", kernel=\"rbf\", probability=True)\n",
    "model_svc.fit(x_train, y_train)\n",
    "predict = model_svc.predict(x_test)\n",
    "print(f\"accuracy is {accuracy_score(y_test, predict):.5f}\")\n",
    "print(f\"precision is {precision_score(y_test, predict, average='weighted'):.5f}\")\n",
    "print(f\"recall is {recall_score(y_test, predict, average='weighted'):.5f}\")"
   ]
  },
  {
   "cell_type": "code",
   "execution_count": 144,
   "metadata": {},
   "outputs": [
    {
     "name": "stdout",
     "output_type": "stream",
     "text": [
      "accuracy is 0.88462\n",
      "precision is 0.88765\n",
      "recall is 0.88462\n"
     ]
    }
   ],
   "source": [
    "model_tree = DecisionTreeClassifier(random_state=21, class_weight=\"balanced\", criterion=\"gini\", max_depth=21)\n",
    "model_tree.fit(x_train, y_train)\n",
    "predict = model_tree.predict(x_test)\n",
    "print(f\"accuracy is {accuracy_score(y_test, predict):.5f}\")\n",
    "print(f\"precision is {precision_score(y_test, predict, average='weighted'):.5f}\")\n",
    "print(f\"recall is {recall_score(y_test, predict, average='weighted'):.5f}\")"
   ]
  },
  {
   "cell_type": "code",
   "execution_count": 145,
   "metadata": {},
   "outputs": [
    {
     "name": "stdout",
     "output_type": "stream",
     "text": [
      "accuracy is 0.92604\n",
      "precision is 0.92754\n",
      "recall is 0.92604\n"
     ]
    }
   ],
   "source": [
    "model_forest = RandomForestClassifier(random_state=21, class_weight=\"balanced\", criterion=\"entropy\", max_depth=24, n_estimators=100)\n",
    "model_forest.fit(x_train, y_train)\n",
    "predict = model_forest.predict(x_test)\n",
    "print(f\"accuracy is {accuracy_score(y_test, predict):.5f}\")\n",
    "print(f\"precision is {precision_score(y_test, predict, average='weighted'):.5f}\")\n",
    "print(f\"recall is {recall_score(y_test, predict, average='weighted'):.5f}\")"
   ]
  },
  {
   "cell_type": "markdown",
   "metadata": {},
   "source": [
    "## 3. Voting classifiers"
   ]
  },
  {
   "cell_type": "markdown",
   "metadata": {},
   "source": [
    "1. Using `VotingClassifier` and the three models that you have just trained, calculate the `accuracy`, `precision`, and `recall` on the validation set.\n",
    "2. Play with the other parameteres.\n",
    "3. Calculate the `accuracy`, `precision` and `recall` on the test set for the model with the best weights in terms of accuracy (if there are several of them with equal values, choose the one with the higher precision)."
   ]
  },
  {
   "cell_type": "code",
   "execution_count": 146,
   "metadata": {},
   "outputs": [],
   "source": [
    "model_svc = SVC(random_state=21, C=10, class_weight=None, gamma=\"auto\", kernel=\"rbf\", probability=True)\n",
    "model_tree = DecisionTreeClassifier(random_state=21, class_weight=\"balanced\", criterion=\"gini\", max_depth=21)\n",
    "model_forest = RandomForestClassifier(random_state=21, class_weight=\"balanced\", criterion=\"entropy\", max_depth=24, n_estimators=100)"
   ]
  },
  {
   "cell_type": "code",
   "execution_count": 147,
   "metadata": {},
   "outputs": [
    {
     "name": "stdout",
     "output_type": "stream",
     "text": [
      "accuracy is 0.91420\n",
      "precision is 0.91538\n",
      "recall is 0.91420\n"
     ]
    }
   ],
   "source": [
    "model_voting = VotingClassifier(estimators=[(\"svc\", model_svc), (\"tree\", model_tree), (\"forest\", model_forest)])\n",
    "model_voting.fit(x_train, y_train)\n",
    "predict = model_voting.predict(x_test)\n",
    "print(f\"accuracy is {accuracy_score(y_test, predict):.5f}\")\n",
    "print(f\"precision is {precision_score(y_test, predict, average='weighted'):.5f}\")\n",
    "print(f\"recall is {recall_score(y_test, predict, average='weighted'):.5f}\")"
   ]
  },
  {
   "cell_type": "code",
   "execution_count": 148,
   "metadata": {},
   "outputs": [
    {
     "data": {
      "text/plain": [
       "{'voting': 'hard', 'weights': [1, 2, 3]}"
      ]
     },
     "execution_count": 148,
     "metadata": {},
     "output_type": "execute_result"
    }
   ],
   "source": [
    "param_grid = {\n",
    "    \"voting\": [\"soft\", \"hard\"],\n",
    "    \"weights\" : [[1,1,1], [1,2,3], [3,2,1]]\n",
    "}\n",
    "grid_search = GridSearchCV(estimator=model_voting, param_grid=param_grid, scoring=\"accuracy\", n_jobs=-1)\n",
    "grid_search.fit(x_train, y_train)\n",
    "grid_search.best_params_"
   ]
  },
  {
   "cell_type": "code",
   "execution_count": 149,
   "metadata": {},
   "outputs": [
    {
     "name": "stdout",
     "output_type": "stream",
     "text": [
      "accuracy is 0.92308\n",
      "precision is 0.92491\n",
      "recall is 0.92308\n"
     ]
    }
   ],
   "source": [
    "model_voting = VotingClassifier(estimators=[(\"svc\", model_svc), (\"tree\", model_tree), (\"forest\", model_forest)], voting=\"hard\", weights=[1,2,3])\n",
    "model_voting.fit(x_train, y_train)\n",
    "predict = model_voting.predict(x_test)\n",
    "print(f\"accuracy is {accuracy_score(y_test, predict):.5f}\")\n",
    "print(f\"precision is {precision_score(y_test, predict, average='weighted'):.5f}\")\n",
    "print(f\"recall is {recall_score(y_test, predict, average='weighted'):.5f}\")"
   ]
  },
  {
   "cell_type": "markdown",
   "metadata": {},
   "source": [
    "## 4. Bagging classifiers"
   ]
  },
  {
   "cell_type": "markdown",
   "metadata": {},
   "source": [
    "1. Using `BaggingClassifier` and `SVM` with the best parameters create an ensemble, try different values of the `n_estimators`, use `random_state=21`.\n",
    "2. Play with the other parameters.\n",
    "3. Calculate the `accuracy`, `precision`, and `recall` for the model with the best parameters (in terms of accuracy) on the test set (if there are several of them with equal values, choose the one with the higher precision)"
   ]
  },
  {
   "cell_type": "code",
   "execution_count": 150,
   "metadata": {},
   "outputs": [
    {
     "name": "stdout",
     "output_type": "stream",
     "text": [
      "accuracy is 0.88757\n",
      "precision is 0.89182\n",
      "recall is 0.88757\n"
     ]
    }
   ],
   "source": [
    "model_svc = SVC(random_state=21, C=10, class_weight=None, gamma=\"auto\", kernel=\"rbf\", probability=True)\n",
    "model_Bagging = BaggingClassifier(base_estimator=model_svc, random_state=21)\n",
    "model_Bagging.fit(x_train, y_train)\n",
    "predict = model_Bagging.predict(x_test)\n",
    "print(f\"accuracy is {accuracy_score(y_test, predict):.5f}\")\n",
    "print(f\"precision is {precision_score(y_test, predict, average='weighted', zero_division=0):.5f}\")\n",
    "print(f\"recall is {recall_score(y_test, predict, average='weighted'):.5f}\")"
   ]
  },
  {
   "cell_type": "code",
   "execution_count": 151,
   "metadata": {},
   "outputs": [
    {
     "name": "stdout",
     "output_type": "stream",
     "text": [
      "accuracy is 0.88757\n",
      "precision is 0.89182\n",
      "recall is 0.88757\n"
     ]
    }
   ],
   "source": [
    "model_svc = SVC(random_state=21, C=10, class_weight=None, gamma=\"auto\", kernel=\"rbf\", probability=True)\n",
    "model_Bagging = BaggingClassifier(base_estimator=model_svc, random_state=21, n_estimators=10)\n",
    "model_Bagging.fit(x_train, y_train)\n",
    "predict = model_Bagging.predict(x_test)\n",
    "print(f\"accuracy is {accuracy_score(y_test, predict):.5f}\")\n",
    "print(f\"precision is {precision_score(y_test, predict, average='weighted', zero_division=0):.5f}\")\n",
    "print(f\"recall is {recall_score(y_test, predict, average='weighted'):.5f}\")"
   ]
  },
  {
   "cell_type": "code",
   "execution_count": 152,
   "metadata": {},
   "outputs": [
    {
     "name": "stdout",
     "output_type": "stream",
     "text": [
      "accuracy is 0.83432\n",
      "precision is 0.84210\n",
      "recall is 0.83432\n"
     ]
    }
   ],
   "source": [
    "model_svc = SVC(random_state=21, C=10, class_weight=None, gamma=\"auto\", kernel=\"rbf\", probability=True)\n",
    "model_Bagging = BaggingClassifier(base_estimator=model_svc, random_state=21, n_estimators=1)\n",
    "model_Bagging.fit(x_train, y_train)\n",
    "predict = model_Bagging.predict(x_test)\n",
    "print(f\"accuracy is {accuracy_score(y_test, predict):.5f}\")\n",
    "print(f\"precision is {precision_score(y_test, predict, average='weighted', zero_division=0):.5f}\")\n",
    "print(f\"recall is {recall_score(y_test, predict, average='weighted'):.5f}\")"
   ]
  },
  {
   "cell_type": "code",
   "execution_count": 164,
   "metadata": {},
   "outputs": [
    {
     "name": "stdout",
     "output_type": "stream",
     "text": [
      "accuracy is 0.90828\n",
      "precision is 0.91091\n",
      "recall is 0.90828\n"
     ]
    }
   ],
   "source": [
    "model_svc = SVC(random_state=21, C=10, class_weight=None, gamma=\"auto\", kernel=\"rbf\", probability=True)\n",
    "model_Bagging = BaggingClassifier(base_estimator=model_svc, random_state=21, n_estimators=50)\n",
    "model_Bagging.fit(x_train, y_train)\n",
    "predict = model_Bagging.predict(x_test)\n",
    "print(f\"accuracy is {accuracy_score(y_test, predict):.5f}\")\n",
    "print(f\"precision is {precision_score(y_test, predict, average='weighted', zero_division=0):.5f}\")\n",
    "print(f\"recall is {recall_score(y_test, predict, average='weighted'):.5f}\")"
   ]
  },
  {
   "cell_type": "markdown",
   "metadata": {},
   "source": [
    "## 5. Stacking classifiers"
   ]
  },
  {
   "cell_type": "markdown",
   "metadata": {},
   "source": [
    "1. To achieve reproducibility in this case you will have to create an object of cross-validation generator: `StratifiedKFold(n_splits=n, shuffle=True, random_state=21)`, where `n` you will try to optimize (the details are below).\n",
    "2. Using `StackingClassifier` and the three models that you have recently trained, calculate the `accuracy`, `precision` and `recall` on the validation set, try different values of `n_splits` `[2, 3, 4, 5, 6, 7]` in the cross-validation generator and parameter `passthrough` in the classifier itself,\n",
    "3. Calculate the `accuracy`, `precision`, and `recall` for the model with the best parameters (in terms of accuracy) on the test set (if there are several of them with equal values, choose the one with the higher precision). Use `final_estimator=LogisticRegression(solver='liblinear')`."
   ]
  },
  {
   "cell_type": "code",
   "execution_count": 154,
   "metadata": {},
   "outputs": [
    {
     "name": "stdout",
     "output_type": "stream",
     "text": [
      "accuracy is 0.92308\n",
      "precision is 0.92330\n",
      "recall is 0.92308\n"
     ]
    }
   ],
   "source": [
    "model_svc = SVC(random_state=21, C=10, class_weight=None, gamma=\"auto\", kernel=\"rbf\", probability=True)\n",
    "model_tree = DecisionTreeClassifier(random_state=21, class_weight=\"balanced\", criterion=\"gini\", max_depth=21)\n",
    "model_forest = RandomForestClassifier(random_state=21, class_weight=\"balanced\", criterion=\"entropy\", max_depth=24, n_estimators=100)\n",
    "\n",
    "n_splits = [2, 3, 4, 5, 6, 7]\n",
    "best_accuracy = 0\n",
    "best_precision = 0\n",
    "best_recall = 0\n",
    "best_model = None\n",
    "\n",
    "for n in n_splits:\n",
    "        for passthrough in [True, False]:\n",
    "                kf = StratifiedKFold(n_splits=n, shuffle=True, random_state=21)\n",
    "                for train_index, test_index in kf.split(x_train, y_train):\n",
    "                        x_train_kf, x_test_kf = x_train.iloc[train_index], x_train.iloc[test_index]\n",
    "                        y_train_kf, y_test_kf = y_train.iloc[train_index], y_train.iloc[test_index]\n",
    "\n",
    "                        model_stacking = StackingClassifier(estimators=[(\"svc\", model_svc), (\"tree\", model_tree), (\"forest\", model_forest)], \n",
    "                                                        final_estimator=LogisticRegression(solver=\"liblinear\"),\n",
    "                                                        passthrough=passthrough)\n",
    "                        model_stacking.fit(x_train_kf, y_train_kf)\n",
    "                        predict = model_stacking.predict(x_test_kf)\n",
    "\n",
    "                        accuracy = accuracy_score(y_test_kf, predict)\n",
    "                        precision = precision_score(y_test_kf, predict, average='weighted', zero_division=1)\n",
    "                        recall = recall_score(y_test_kf, predict, average='weighted', zero_division=1)\n",
    "\n",
    "                        if accuracy > best_accuracy or (accuracy == best_accuracy and precision > best_precision):\n",
    "                                best_accuracy = accuracy\n",
    "                                best_precision = precision\n",
    "                                best_recall = recall\n",
    "                                best_model = model_stacking\n",
    "\n",
    "predict = best_model.predict(x_test)\n",
    "print(f\"accuracy is {accuracy_score(y_test, predict):.5f}\")\n",
    "print(f\"precision is {precision_score(y_test, predict, average='weighted', zero_division=0):.5f}\")\n",
    "print(f\"recall is {recall_score(y_test, predict, average='weighted'):.5f}\")"
   ]
  },
  {
   "cell_type": "markdown",
   "metadata": {},
   "source": [
    "## 6. Predictions"
   ]
  },
  {
   "cell_type": "markdown",
   "metadata": {},
   "source": [
    "1. Choose the best model in terms of accuracy (if there are several of them with equal values, choose the one with the higher precision).\n",
    "2. Analyze: for which weekday your model makes the most errors (in % of the total number of samples of that class in your full dataset), for which labname and for which users.\n",
    "3. Save the model."
   ]
  },
  {
   "cell_type": "code",
   "execution_count": 163,
   "metadata": {},
   "outputs": [
    {
     "name": "stdout",
     "output_type": "stream",
     "text": [
      "max day error: 5, error percent: 0.712%\n"
     ]
    }
   ],
   "source": [
    "predict = best_model.predict(x)\n",
    "df[\"predict\"] = predict\n",
    "error_perc_by_day = df[df.predict != df.dayofweek].dayofweek.value_counts() / len(predict)\n",
    "max_day = error_perc_by_day.idxmax()\n",
    "max_error = error_perc_by_day.max() * 100\n",
    "print(f\"max day error: {max_day}, error percent: {max_error:.3f}%\")"
   ]
  },
  {
   "cell_type": "code",
   "execution_count": 160,
   "metadata": {},
   "outputs": [],
   "source": [
    "error = df[df[\"predict\"] != df[\"dayofweek\"]]\n",
    "users = [i for i in df.columns if i.startswith(\"uid_\")]\n",
    "labnames = [i for i in df.columns if i.startswith(\"labname_\")]"
   ]
  },
  {
   "cell_type": "code",
   "execution_count": 161,
   "metadata": {},
   "outputs": [
    {
     "name": "stdout",
     "output_type": "stream",
     "text": [
      "max user error: uid_user_13, error percent: 0.237%\n"
     ]
    }
   ],
   "source": [
    "max_error = 0\n",
    "max_user = ''\n",
    "for user in users:\n",
    "    error_perc = error[user].sum() / len(predict)\n",
    "    if error_perc > max_error:\n",
    "        max_error = error_perc\n",
    "        max_user = user\n",
    "print(f\"max user error: {max_user}, error percent: {(max_error * 100):.3f}%\")"
   ]
  },
  {
   "cell_type": "code",
   "execution_count": 162,
   "metadata": {},
   "outputs": [
    {
     "name": "stdout",
     "output_type": "stream",
     "text": [
      "max lab error: labname_project1, error percent: 1.127%\n"
     ]
    }
   ],
   "source": [
    "max_error = 0\n",
    "max_user = ''\n",
    "for lab in labnames:\n",
    "    error_perc = error[lab].sum() / len(predict)\n",
    "    if error_perc > max_error:\n",
    "        max_error = error_perc\n",
    "        max_lab = lab\n",
    "print(f\"max lab error: {max_lab}, error percent: {(max_error * 100):.3f}%\")"
   ]
  },
  {
   "cell_type": "code",
   "execution_count": 169,
   "metadata": {},
   "outputs": [
    {
     "data": {
      "text/plain": [
       "['best_model.joblib']"
      ]
     },
     "execution_count": 169,
     "metadata": {},
     "output_type": "execute_result"
    }
   ],
   "source": [
    "joblib.dump(best_model, \"best_model.joblib\")"
   ]
  }
 ],
 "metadata": {
  "kernelspec": {
   "display_name": "py36env",
   "language": "python",
   "name": "python3"
  },
  "language_info": {
   "codemirror_mode": {
    "name": "ipython",
    "version": 3
   },
   "file_extension": ".py",
   "mimetype": "text/x-python",
   "name": "python",
   "nbconvert_exporter": "python",
   "pygments_lexer": "ipython3",
   "version": "3.6.13"
  }
 },
 "nbformat": 4,
 "nbformat_minor": 4
}
