{
 "cells": [
  {
   "cell_type": "markdown",
   "id": "b3d65d79",
   "metadata": {},
   "source": [
    "# 1. Introduction"
   ]
  },
  {
   "cell_type": "markdown",
   "id": "56b27325",
   "metadata": {},
   "source": [
    "### 1. To get started, please write 5 examples of the application of ML methods in life. What is the benefit of using machine learning methods in each of your examples? "
   ]
  },
  {
   "cell_type": "markdown",
   "id": "77f5ae1e",
   "metadata": {},
   "source": [
    "1. Медицинская диагностика: машинное обучение помогает выявлять заболевания на ранних стадиях, повышая точность и скорость диагностики.\n",
    "2. Рекомендательные системы: в онлайн-магазинах и сервисах машины анализируют предпочтения пользователей, улучшая персонализацию и повышение удобства.\n",
    "3. Обработка естественного языка: автоматический перевод и распознавание речи упрощают коммуникацию между людьми и технологиями.\n",
    "4. Финансовый сектор: алгоритмы машинного обучения выявляют мошенничество и помогают в управлении рисками, повышая безопасность и устойчивость.\n",
    "5. Автономное управление: в транспортных средствах ИИ анализирует данные с датчиков для принятия решений, улучшая безопасность и эффективность передвижения.  \n",
    "\n",
    "Преимущество машинного обучения заключается в способности обрабатывать большие объемы данных и выявлять скрытые закономерности, что повышает точность и эффективность решений."
   ]
  },
  {
   "cell_type": "markdown",
   "id": "9b8525a4",
   "metadata": {},
   "source": [
    "### 2. Use the classification of tasks in the introduction to decide which class you can assign to the tasks from the table above and to the 5 examples you provided. "
   ]
  },
  {
   "cell_type": "markdown",
   "id": "90b70dd2",
   "metadata": {},
   "source": [
    "* Задачи классификации: медицинская диагностика, финансовый сектор, выберите, какое лекарство из доступных пациенту следует принять, распознавание бракованной продукции на производственной линии, решите, как разместить товары на полке в магазине, поиск сайтов по входному текстовому запросу, обнаружение аномалий в трафике сайта\n",
    "\n",
    "* Задачи регрессии: рекомендательные системы, автономное управление, прогнозирование цены на жилье, прогнозировать, вернет ли клиент кредит, прогнозирование, когда пациенту необходимо принять лекарство\n",
    "\n",
    "* Обучение с учителем: обработка естественного языка, выберите сегмент клиентов для промо-коммуникации, разбивайте покупателей магазина на сегменты, чтобы понимать различия в их поведении"
   ]
  },
  {
   "cell_type": "markdown",
   "id": "c8280adf",
   "metadata": {},
   "source": [
    "### 3. Think about what the difference is between multiclass and multilabel."
   ]
  },
  {
   "cell_type": "markdown",
   "id": "b8a77be1",
   "metadata": {},
   "source": [
    "Мультиклассовая (multiclass) классификация означает, что каждому объекту из множества входных данных присваивается ровно один класс из нескольких возможных. Классы взаимно исключают друг друга. Многометочная (multilabel) классификация предполагает, что один объект может иметь сразу несколько классов или меток одновременно."
   ]
  },
  {
   "cell_type": "markdown",
   "id": "5f945a18",
   "metadata": {},
   "source": [
    "### 4. Is an example case with house prices from the theory a classification of a regression problem? Is it possible to reduce the regression problem to classification?"
   ]
  },
  {
   "cell_type": "markdown",
   "id": "b1623c7b",
   "metadata": {},
   "source": [
    "Пример с ценами на жилье из теории относится к задаче регрессии, поскольку предсказывается непрерывное числовое значение — цена жилья. Однако такую задачу регрессии можно свести к задаче классификации, разбив диапазон цен на несколько дискретных категорий или интервалов (например, низкий, средний, высокий ценовой сегмент)."
   ]
  },
  {
   "cell_type": "markdown",
   "id": "641fa5e2",
   "metadata": {},
   "source": [
    "# 2. Introduction to Data Analysis"
   ]
  },
  {
   "cell_type": "markdown",
   "id": "5644bf31",
   "metadata": {},
   "source": [
    "1. Import the libraries **pandas**, **numpy**, **sklearn**, **lightgbm**, **scipy**, **statsmodels**, **matplotlib**, **seaborn**. Use **pip install** if necessary.\n",
    "   2. Load data from [kaggle](https://www.kaggle.com/competitions/two-sigma-connect-rental-listing-inquiries/data) using **pandas**. You only need the table data, which is in **train.json**."
   ]
  },
  {
   "cell_type": "code",
   "execution_count": 2425,
   "id": "247a2b9b",
   "metadata": {},
   "outputs": [],
   "source": [
    "import pandas as pd\n",
    "import numpy as np\n",
    "import sklearn\n",
    "import lightgbm as lgb\n",
    "import scipy\n",
    "import statsmodels.api as sm\n",
    "import matplotlib.pyplot as plt\n",
    "import seaborn as sns\n",
    "\n",
    "from sklearn.preprocessing import PolynomialFeatures\n",
    "from sklearn.linear_model import LinearRegression\n",
    "from sklearn.tree import DecisionTreeRegressor\n",
    "from sklearn.dummy import DummyRegressor\n",
    "from sklearn.metrics import mean_absolute_error, mean_squared_error"
   ]
  },
  {
   "cell_type": "code",
   "execution_count": 2426,
   "id": "20e0baac",
   "metadata": {},
   "outputs": [],
   "source": [
    "df = pd.read_json(\"data/train.json\")"
   ]
  },
  {
   "cell_type": "markdown",
   "id": "2d2aceb8",
   "metadata": {},
   "source": [
    "3. What is the size (the number of rows and columns) of your data? "
   ]
  },
  {
   "cell_type": "code",
   "execution_count": 2427,
   "id": "e05ad932",
   "metadata": {},
   "outputs": [
    {
     "data": {
      "text/plain": [
       "(49352, 15)"
      ]
     },
     "execution_count": 2427,
     "metadata": {},
     "output_type": "execute_result"
    }
   ],
   "source": [
    "df.shape"
   ]
  },
  {
   "cell_type": "markdown",
   "id": "4294ef4a",
   "metadata": {},
   "source": [
    "4. Print the list of columns. Which column is a target? "
   ]
  },
  {
   "cell_type": "code",
   "execution_count": 2428,
   "id": "287f15c0",
   "metadata": {},
   "outputs": [
    {
     "data": {
      "text/plain": [
       "Index(['bathrooms', 'bedrooms', 'building_id', 'created', 'description',\n",
       "       'display_address', 'features', 'latitude', 'listing_id', 'longitude',\n",
       "       'manager_id', 'photos', 'price', 'street_address', 'interest_level'],\n",
       "      dtype='object')"
      ]
     },
     "execution_count": 2428,
     "metadata": {},
     "output_type": "execute_result"
    }
   ],
   "source": [
    "df.columns"
   ]
  },
  {
   "cell_type": "markdown",
   "id": "6a2fce2f",
   "metadata": {},
   "source": [
    "target is price"
   ]
  },
  {
   "cell_type": "markdown",
   "id": "5e7bc046",
   "metadata": {},
   "source": [
    "5. Make a quick analysis of the data: use the methods **info()**, **describe()**, **corr()**. Explain the results of the outputs. Are there any empty columns? "
   ]
  },
  {
   "cell_type": "code",
   "execution_count": 2429,
   "id": "0508a61f",
   "metadata": {},
   "outputs": [
    {
     "name": "stdout",
     "output_type": "stream",
     "text": [
      "<class 'pandas.core.frame.DataFrame'>\n",
      "Index: 49352 entries, 4 to 124009\n",
      "Data columns (total 15 columns):\n",
      " #   Column           Non-Null Count  Dtype  \n",
      "---  ------           --------------  -----  \n",
      " 0   bathrooms        49352 non-null  float64\n",
      " 1   bedrooms         49352 non-null  int64  \n",
      " 2   building_id      49352 non-null  object \n",
      " 3   created          49352 non-null  object \n",
      " 4   description      49352 non-null  object \n",
      " 5   display_address  49352 non-null  object \n",
      " 6   features         49352 non-null  object \n",
      " 7   latitude         49352 non-null  float64\n",
      " 8   listing_id       49352 non-null  int64  \n",
      " 9   longitude        49352 non-null  float64\n",
      " 10  manager_id       49352 non-null  object \n",
      " 11  photos           49352 non-null  object \n",
      " 12  price            49352 non-null  int64  \n",
      " 13  street_address   49352 non-null  object \n",
      " 14  interest_level   49352 non-null  object \n",
      "dtypes: float64(3), int64(3), object(9)\n",
      "memory usage: 6.0+ MB\n"
     ]
    }
   ],
   "source": [
    "df.info()"
   ]
  },
  {
   "cell_type": "code",
   "execution_count": 2430,
   "id": "f246da31",
   "metadata": {},
   "outputs": [
    {
     "data": {
      "text/html": [
       "<div>\n",
       "<style scoped>\n",
       "    .dataframe tbody tr th:only-of-type {\n",
       "        vertical-align: middle;\n",
       "    }\n",
       "\n",
       "    .dataframe tbody tr th {\n",
       "        vertical-align: top;\n",
       "    }\n",
       "\n",
       "    .dataframe thead th {\n",
       "        text-align: right;\n",
       "    }\n",
       "</style>\n",
       "<table border=\"1\" class=\"dataframe\">\n",
       "  <thead>\n",
       "    <tr style=\"text-align: right;\">\n",
       "      <th></th>\n",
       "      <th>bathrooms</th>\n",
       "      <th>bedrooms</th>\n",
       "      <th>latitude</th>\n",
       "      <th>listing_id</th>\n",
       "      <th>longitude</th>\n",
       "      <th>price</th>\n",
       "    </tr>\n",
       "  </thead>\n",
       "  <tbody>\n",
       "    <tr>\n",
       "      <th>count</th>\n",
       "      <td>49352.00000</td>\n",
       "      <td>49352.000000</td>\n",
       "      <td>49352.000000</td>\n",
       "      <td>4.935200e+04</td>\n",
       "      <td>49352.000000</td>\n",
       "      <td>4.935200e+04</td>\n",
       "    </tr>\n",
       "    <tr>\n",
       "      <th>mean</th>\n",
       "      <td>1.21218</td>\n",
       "      <td>1.541640</td>\n",
       "      <td>40.741545</td>\n",
       "      <td>7.024055e+06</td>\n",
       "      <td>-73.955716</td>\n",
       "      <td>3.830174e+03</td>\n",
       "    </tr>\n",
       "    <tr>\n",
       "      <th>std</th>\n",
       "      <td>0.50142</td>\n",
       "      <td>1.115018</td>\n",
       "      <td>0.638535</td>\n",
       "      <td>1.262746e+05</td>\n",
       "      <td>1.177912</td>\n",
       "      <td>2.206687e+04</td>\n",
       "    </tr>\n",
       "    <tr>\n",
       "      <th>min</th>\n",
       "      <td>0.00000</td>\n",
       "      <td>0.000000</td>\n",
       "      <td>0.000000</td>\n",
       "      <td>6.811957e+06</td>\n",
       "      <td>-118.271000</td>\n",
       "      <td>4.300000e+01</td>\n",
       "    </tr>\n",
       "    <tr>\n",
       "      <th>25%</th>\n",
       "      <td>1.00000</td>\n",
       "      <td>1.000000</td>\n",
       "      <td>40.728300</td>\n",
       "      <td>6.915888e+06</td>\n",
       "      <td>-73.991700</td>\n",
       "      <td>2.500000e+03</td>\n",
       "    </tr>\n",
       "    <tr>\n",
       "      <th>50%</th>\n",
       "      <td>1.00000</td>\n",
       "      <td>1.000000</td>\n",
       "      <td>40.751800</td>\n",
       "      <td>7.021070e+06</td>\n",
       "      <td>-73.977900</td>\n",
       "      <td>3.150000e+03</td>\n",
       "    </tr>\n",
       "    <tr>\n",
       "      <th>75%</th>\n",
       "      <td>1.00000</td>\n",
       "      <td>2.000000</td>\n",
       "      <td>40.774300</td>\n",
       "      <td>7.128733e+06</td>\n",
       "      <td>-73.954800</td>\n",
       "      <td>4.100000e+03</td>\n",
       "    </tr>\n",
       "    <tr>\n",
       "      <th>max</th>\n",
       "      <td>10.00000</td>\n",
       "      <td>8.000000</td>\n",
       "      <td>44.883500</td>\n",
       "      <td>7.753784e+06</td>\n",
       "      <td>0.000000</td>\n",
       "      <td>4.490000e+06</td>\n",
       "    </tr>\n",
       "  </tbody>\n",
       "</table>\n",
       "</div>"
      ],
      "text/plain": [
       "         bathrooms      bedrooms      latitude    listing_id     longitude  \\\n",
       "count  49352.00000  49352.000000  49352.000000  4.935200e+04  49352.000000   \n",
       "mean       1.21218      1.541640     40.741545  7.024055e+06    -73.955716   \n",
       "std        0.50142      1.115018      0.638535  1.262746e+05      1.177912   \n",
       "min        0.00000      0.000000      0.000000  6.811957e+06   -118.271000   \n",
       "25%        1.00000      1.000000     40.728300  6.915888e+06    -73.991700   \n",
       "50%        1.00000      1.000000     40.751800  7.021070e+06    -73.977900   \n",
       "75%        1.00000      2.000000     40.774300  7.128733e+06    -73.954800   \n",
       "max       10.00000      8.000000     44.883500  7.753784e+06      0.000000   \n",
       "\n",
       "              price  \n",
       "count  4.935200e+04  \n",
       "mean   3.830174e+03  \n",
       "std    2.206687e+04  \n",
       "min    4.300000e+01  \n",
       "25%    2.500000e+03  \n",
       "50%    3.150000e+03  \n",
       "75%    4.100000e+03  \n",
       "max    4.490000e+06  "
      ]
     },
     "execution_count": 2430,
     "metadata": {},
     "output_type": "execute_result"
    }
   ],
   "source": [
    "df.describe()"
   ]
  },
  {
   "cell_type": "code",
   "execution_count": 2431,
   "id": "46dfa859",
   "metadata": {},
   "outputs": [
    {
     "data": {
      "text/html": [
       "<div>\n",
       "<style scoped>\n",
       "    .dataframe tbody tr th:only-of-type {\n",
       "        vertical-align: middle;\n",
       "    }\n",
       "\n",
       "    .dataframe tbody tr th {\n",
       "        vertical-align: top;\n",
       "    }\n",
       "\n",
       "    .dataframe thead th {\n",
       "        text-align: right;\n",
       "    }\n",
       "</style>\n",
       "<table border=\"1\" class=\"dataframe\">\n",
       "  <thead>\n",
       "    <tr style=\"text-align: right;\">\n",
       "      <th></th>\n",
       "      <th>bathrooms</th>\n",
       "      <th>bedrooms</th>\n",
       "      <th>latitude</th>\n",
       "      <th>listing_id</th>\n",
       "      <th>longitude</th>\n",
       "      <th>price</th>\n",
       "    </tr>\n",
       "  </thead>\n",
       "  <tbody>\n",
       "    <tr>\n",
       "      <th>bathrooms</th>\n",
       "      <td>1.000000</td>\n",
       "      <td>0.533446</td>\n",
       "      <td>-0.009657</td>\n",
       "      <td>0.000776</td>\n",
       "      <td>0.010393</td>\n",
       "      <td>0.069661</td>\n",
       "    </tr>\n",
       "    <tr>\n",
       "      <th>bedrooms</th>\n",
       "      <td>0.533446</td>\n",
       "      <td>1.000000</td>\n",
       "      <td>-0.004745</td>\n",
       "      <td>0.011968</td>\n",
       "      <td>0.006892</td>\n",
       "      <td>0.051788</td>\n",
       "    </tr>\n",
       "    <tr>\n",
       "      <th>latitude</th>\n",
       "      <td>-0.009657</td>\n",
       "      <td>-0.004745</td>\n",
       "      <td>1.000000</td>\n",
       "      <td>0.001712</td>\n",
       "      <td>-0.966807</td>\n",
       "      <td>-0.000707</td>\n",
       "    </tr>\n",
       "    <tr>\n",
       "      <th>listing_id</th>\n",
       "      <td>0.000776</td>\n",
       "      <td>0.011968</td>\n",
       "      <td>0.001712</td>\n",
       "      <td>1.000000</td>\n",
       "      <td>-0.000907</td>\n",
       "      <td>0.008090</td>\n",
       "    </tr>\n",
       "    <tr>\n",
       "      <th>longitude</th>\n",
       "      <td>0.010393</td>\n",
       "      <td>0.006892</td>\n",
       "      <td>-0.966807</td>\n",
       "      <td>-0.000907</td>\n",
       "      <td>1.000000</td>\n",
       "      <td>-0.000087</td>\n",
       "    </tr>\n",
       "    <tr>\n",
       "      <th>price</th>\n",
       "      <td>0.069661</td>\n",
       "      <td>0.051788</td>\n",
       "      <td>-0.000707</td>\n",
       "      <td>0.008090</td>\n",
       "      <td>-0.000087</td>\n",
       "      <td>1.000000</td>\n",
       "    </tr>\n",
       "  </tbody>\n",
       "</table>\n",
       "</div>"
      ],
      "text/plain": [
       "            bathrooms  bedrooms  latitude  listing_id  longitude     price\n",
       "bathrooms    1.000000  0.533446 -0.009657    0.000776   0.010393  0.069661\n",
       "bedrooms     0.533446  1.000000 -0.004745    0.011968   0.006892  0.051788\n",
       "latitude    -0.009657 -0.004745  1.000000    0.001712  -0.966807 -0.000707\n",
       "listing_id   0.000776  0.011968  0.001712    1.000000  -0.000907  0.008090\n",
       "longitude    0.010393  0.006892 -0.966807   -0.000907   1.000000 -0.000087\n",
       "price        0.069661  0.051788 -0.000707    0.008090  -0.000087  1.000000"
      ]
     },
     "execution_count": 2431,
     "metadata": {},
     "output_type": "execute_result"
    }
   ],
   "source": [
    "df.corr(numeric_only=True)"
   ]
  },
  {
   "cell_type": "markdown",
   "id": "72fe4a8a",
   "metadata": {},
   "source": [
    "6. We'll work with only 3 features: 'bathrooms', 'bedrooms', 'interest_level' and with the target column 'price'. Create a dataframe with only these columns."
   ]
  },
  {
   "cell_type": "code",
   "execution_count": 2432,
   "id": "9d286af5",
   "metadata": {},
   "outputs": [
    {
     "data": {
      "text/html": [
       "<div>\n",
       "<style scoped>\n",
       "    .dataframe tbody tr th:only-of-type {\n",
       "        vertical-align: middle;\n",
       "    }\n",
       "\n",
       "    .dataframe tbody tr th {\n",
       "        vertical-align: top;\n",
       "    }\n",
       "\n",
       "    .dataframe thead th {\n",
       "        text-align: right;\n",
       "    }\n",
       "</style>\n",
       "<table border=\"1\" class=\"dataframe\">\n",
       "  <thead>\n",
       "    <tr style=\"text-align: right;\">\n",
       "      <th></th>\n",
       "      <th>bathrooms</th>\n",
       "      <th>bedrooms</th>\n",
       "      <th>interest_level</th>\n",
       "      <th>price</th>\n",
       "    </tr>\n",
       "  </thead>\n",
       "  <tbody>\n",
       "    <tr>\n",
       "      <th>4</th>\n",
       "      <td>1.0</td>\n",
       "      <td>1</td>\n",
       "      <td>medium</td>\n",
       "      <td>2400</td>\n",
       "    </tr>\n",
       "    <tr>\n",
       "      <th>6</th>\n",
       "      <td>1.0</td>\n",
       "      <td>2</td>\n",
       "      <td>low</td>\n",
       "      <td>3800</td>\n",
       "    </tr>\n",
       "    <tr>\n",
       "      <th>9</th>\n",
       "      <td>1.0</td>\n",
       "      <td>2</td>\n",
       "      <td>medium</td>\n",
       "      <td>3495</td>\n",
       "    </tr>\n",
       "    <tr>\n",
       "      <th>10</th>\n",
       "      <td>1.5</td>\n",
       "      <td>3</td>\n",
       "      <td>medium</td>\n",
       "      <td>3000</td>\n",
       "    </tr>\n",
       "    <tr>\n",
       "      <th>15</th>\n",
       "      <td>1.0</td>\n",
       "      <td>0</td>\n",
       "      <td>low</td>\n",
       "      <td>2795</td>\n",
       "    </tr>\n",
       "    <tr>\n",
       "      <th>...</th>\n",
       "      <td>...</td>\n",
       "      <td>...</td>\n",
       "      <td>...</td>\n",
       "      <td>...</td>\n",
       "    </tr>\n",
       "    <tr>\n",
       "      <th>124000</th>\n",
       "      <td>1.0</td>\n",
       "      <td>3</td>\n",
       "      <td>low</td>\n",
       "      <td>2800</td>\n",
       "    </tr>\n",
       "    <tr>\n",
       "      <th>124002</th>\n",
       "      <td>1.0</td>\n",
       "      <td>2</td>\n",
       "      <td>medium</td>\n",
       "      <td>2395</td>\n",
       "    </tr>\n",
       "    <tr>\n",
       "      <th>124004</th>\n",
       "      <td>1.0</td>\n",
       "      <td>1</td>\n",
       "      <td>medium</td>\n",
       "      <td>1850</td>\n",
       "    </tr>\n",
       "    <tr>\n",
       "      <th>124008</th>\n",
       "      <td>1.0</td>\n",
       "      <td>2</td>\n",
       "      <td>medium</td>\n",
       "      <td>4195</td>\n",
       "    </tr>\n",
       "    <tr>\n",
       "      <th>124009</th>\n",
       "      <td>1.0</td>\n",
       "      <td>3</td>\n",
       "      <td>high</td>\n",
       "      <td>4280</td>\n",
       "    </tr>\n",
       "  </tbody>\n",
       "</table>\n",
       "<p>49352 rows × 4 columns</p>\n",
       "</div>"
      ],
      "text/plain": [
       "        bathrooms  bedrooms interest_level  price\n",
       "4             1.0         1         medium   2400\n",
       "6             1.0         2            low   3800\n",
       "9             1.0         2         medium   3495\n",
       "10            1.5         3         medium   3000\n",
       "15            1.0         0            low   2795\n",
       "...           ...       ...            ...    ...\n",
       "124000        1.0         3            low   2800\n",
       "124002        1.0         2         medium   2395\n",
       "124004        1.0         1         medium   1850\n",
       "124008        1.0         2         medium   4195\n",
       "124009        1.0         3           high   4280\n",
       "\n",
       "[49352 rows x 4 columns]"
      ]
     },
     "execution_count": 2432,
     "metadata": {},
     "output_type": "execute_result"
    }
   ],
   "source": [
    "main_cols_df = df[[\"bathrooms\", \"bedrooms\", \"interest_level\", \"price\"]].copy()\n",
    "main_cols_df"
   ]
  },
  {
   "cell_type": "markdown",
   "id": "1b3cfc2e",
   "metadata": {},
   "source": [
    "# 3. Statistical Data Analysis"
   ]
  },
  {
   "cell_type": "markdown",
   "id": "56f26876",
   "metadata": {},
   "source": [
    "1. Plot a histogram to understand the distribution of the target. Is it all clear? "
   ]
  },
  {
   "cell_type": "code",
   "execution_count": 2433,
   "id": "453b4c6a",
   "metadata": {},
   "outputs": [
    {
     "data": {
      "image/png": "[encoded data removed]",
      "text/plain": [
       "<Figure size 640x480 with 1 Axes>"
      ]
     },
     "metadata": {},
     "output_type": "display_data"
    }
   ],
   "source": [
    "plt.ticklabel_format(style=\"plain\", axis=\"x\")\n",
    "plt.hist(main_cols_df[\"price\"], bins=50, edgecolor='black')\n",
    "plt.show()"
   ]
  },
  {
   "cell_type": "markdown",
   "id": "ba2aebae",
   "metadata": {},
   "source": [
    "Answer: it is not clear"
   ]
  },
  {
   "cell_type": "markdown",
   "id": "cefadad2",
   "metadata": {},
   "source": [
    "2. The next step is boxplot(). What can you say about the target? Are there any outliers? "
   ]
  },
  {
   "cell_type": "code",
   "execution_count": 2434,
   "id": "86624c90",
   "metadata": {},
   "outputs": [
    {
     "data": {
      "image/png": "[encoded data removed]",
      "text/plain": [
       "<Figure size 640x480 with 1 Axes>"
      ]
     },
     "metadata": {},
     "output_type": "display_data"
    }
   ],
   "source": [
    "plt.ticklabel_format(style=\"plain\", axis=\"x\")\n",
    "plt.boxplot(main_cols_df[\"price\"], vert=False)\n",
    "plt.show()"
   ]
  },
  {
   "cell_type": "markdown",
   "id": "b671daa0",
   "metadata": {},
   "source": [
    "There are 3 outliers"
   ]
  },
  {
   "cell_type": "markdown",
   "id": "34355e27",
   "metadata": {},
   "source": [
    "3. Drop the rows that are outside the 1 and 99 percentiles from the target column. "
   ]
  },
  {
   "cell_type": "code",
   "execution_count": 2435,
   "id": "f8b7a427",
   "metadata": {},
   "outputs": [
    {
     "name": "stdout",
     "output_type": "stream",
     "text": [
      "<class 'pandas.core.frame.DataFrame'>\n",
      "Index: 48343 entries, 4 to 124009\n",
      "Data columns (total 4 columns):\n",
      " #   Column          Non-Null Count  Dtype  \n",
      "---  ------          --------------  -----  \n",
      " 0   bathrooms       48343 non-null  float64\n",
      " 1   bedrooms        48343 non-null  int64  \n",
      " 2   interest_level  48343 non-null  object \n",
      " 3   price           48343 non-null  int64  \n",
      "dtypes: float64(1), int64(2), object(1)\n",
      "memory usage: 1.8+ MB\n"
     ]
    }
   ],
   "source": [
    "percentile_1 = main_cols_df[\"price\"].quantile(0.01)\n",
    "percentile_9 = main_cols_df[\"price\"].quantile(0.99)\n",
    "filtered_df = main_cols_df[(main_cols_df[\"price\"] > percentile_1) & (main_cols_df[\"price\"] < percentile_9)]\n",
    "filtered_df.info()"
   ]
  },
  {
   "cell_type": "markdown",
   "id": "cb4f5c37",
   "metadata": {},
   "source": [
    "4. Plot another histogram for price. Explain the result."
   ]
  },
  {
   "cell_type": "code",
   "execution_count": 2436,
   "id": "24dddd80",
   "metadata": {},
   "outputs": [
    {
     "data": {
      "image/png": "[encoded data removed]",
      "text/plain": [
       "<Figure size 640x480 with 1 Axes>"
      ]
     },
     "metadata": {},
     "output_type": "display_data"
    }
   ],
   "source": [
    "plt.ticklabel_format(style=\"plain\", axis=\"x\")\n",
    "plt.hist(filtered_df[\"price\"], bins=50, edgecolor='black')\n",
    "plt.show()"
   ]
  },
  {
   "cell_type": "markdown",
   "id": "309a8ab9",
   "metadata": {},
   "source": [
    "После удаления строк с очень маленькими и очень большими значениями (вне 1 и 99 процентилей) пропали выбросы и гистограмма стала лучше"
   ]
  },
  {
   "cell_type": "markdown",
   "id": "306aee98",
   "metadata": {},
   "source": [
    "# 4. Characteristics Analysis"
   ]
  },
  {
   "cell_type": "markdown",
   "id": "c7e5a343",
   "metadata": {},
   "source": [
    "1. What is the type of column 'interest_level'?"
   ]
  },
  {
   "cell_type": "code",
   "execution_count": 2437,
   "id": "1ae8c3e0",
   "metadata": {},
   "outputs": [
    {
     "data": {
      "text/plain": [
       "dtype('O')"
      ]
     },
     "execution_count": 2437,
     "metadata": {},
     "output_type": "execute_result"
    }
   ],
   "source": [
    "filtered_df[\"interest_level\"].dtype"
   ]
  },
  {
   "cell_type": "markdown",
   "id": "36f10330",
   "metadata": {},
   "source": [
    "2. Print the values in this column. How many entries does each value contain? "
   ]
  },
  {
   "cell_type": "code",
   "execution_count": 2438,
   "id": "ae8ea1b3",
   "metadata": {},
   "outputs": [
    {
     "data": {
      "text/plain": [
       "4         medium\n",
       "6            low\n",
       "9         medium\n",
       "10        medium\n",
       "15           low\n",
       "           ...  \n",
       "124000       low\n",
       "124002    medium\n",
       "124004    medium\n",
       "124008    medium\n",
       "124009      high\n",
       "Name: interest_level, Length: 48343, dtype: object"
      ]
     },
     "execution_count": 2438,
     "metadata": {},
     "output_type": "execute_result"
    }
   ],
   "source": [
    "filtered_df[\"interest_level\"]"
   ]
  },
  {
   "cell_type": "code",
   "execution_count": 2439,
   "id": "2165e65e",
   "metadata": {},
   "outputs": [
    {
     "data": {
      "text/plain": [
       "interest_level\n",
       "low       33672\n",
       "medium    11114\n",
       "high       3557\n",
       "Name: count, dtype: int64"
      ]
     },
     "execution_count": 2439,
     "metadata": {},
     "output_type": "execute_result"
    }
   ],
   "source": [
    "filtered_df[\"interest_level\"].value_counts()"
   ]
  },
  {
   "cell_type": "markdown",
   "id": "fdf76bd3",
   "metadata": {},
   "source": [
    "3. Encode these values. For example, you can replace each value with 0, 1, or 2."
   ]
  },
  {
   "cell_type": "code",
   "execution_count": 2440,
   "id": "3f1fbf30",
   "metadata": {},
   "outputs": [
    {
     "data": {
      "text/html": [
       "<div>\n",
       "<style scoped>\n",
       "    .dataframe tbody tr th:only-of-type {\n",
       "        vertical-align: middle;\n",
       "    }\n",
       "\n",
       "    .dataframe tbody tr th {\n",
       "        vertical-align: top;\n",
       "    }\n",
       "\n",
       "    .dataframe thead th {\n",
       "        text-align: right;\n",
       "    }\n",
       "</style>\n",
       "<table border=\"1\" class=\"dataframe\">\n",
       "  <thead>\n",
       "    <tr style=\"text-align: right;\">\n",
       "      <th></th>\n",
       "      <th>bathrooms</th>\n",
       "      <th>bedrooms</th>\n",
       "      <th>interest_level</th>\n",
       "      <th>price</th>\n",
       "    </tr>\n",
       "  </thead>\n",
       "  <tbody>\n",
       "    <tr>\n",
       "      <th>4</th>\n",
       "      <td>1.0</td>\n",
       "      <td>1</td>\n",
       "      <td>1</td>\n",
       "      <td>2400</td>\n",
       "    </tr>\n",
       "    <tr>\n",
       "      <th>6</th>\n",
       "      <td>1.0</td>\n",
       "      <td>2</td>\n",
       "      <td>0</td>\n",
       "      <td>3800</td>\n",
       "    </tr>\n",
       "    <tr>\n",
       "      <th>9</th>\n",
       "      <td>1.0</td>\n",
       "      <td>2</td>\n",
       "      <td>1</td>\n",
       "      <td>3495</td>\n",
       "    </tr>\n",
       "    <tr>\n",
       "      <th>10</th>\n",
       "      <td>1.5</td>\n",
       "      <td>3</td>\n",
       "      <td>1</td>\n",
       "      <td>3000</td>\n",
       "    </tr>\n",
       "    <tr>\n",
       "      <th>15</th>\n",
       "      <td>1.0</td>\n",
       "      <td>0</td>\n",
       "      <td>0</td>\n",
       "      <td>2795</td>\n",
       "    </tr>\n",
       "    <tr>\n",
       "      <th>...</th>\n",
       "      <td>...</td>\n",
       "      <td>...</td>\n",
       "      <td>...</td>\n",
       "      <td>...</td>\n",
       "    </tr>\n",
       "    <tr>\n",
       "      <th>124000</th>\n",
       "      <td>1.0</td>\n",
       "      <td>3</td>\n",
       "      <td>0</td>\n",
       "      <td>2800</td>\n",
       "    </tr>\n",
       "    <tr>\n",
       "      <th>124002</th>\n",
       "      <td>1.0</td>\n",
       "      <td>2</td>\n",
       "      <td>1</td>\n",
       "      <td>2395</td>\n",
       "    </tr>\n",
       "    <tr>\n",
       "      <th>124004</th>\n",
       "      <td>1.0</td>\n",
       "      <td>1</td>\n",
       "      <td>1</td>\n",
       "      <td>1850</td>\n",
       "    </tr>\n",
       "    <tr>\n",
       "      <th>124008</th>\n",
       "      <td>1.0</td>\n",
       "      <td>2</td>\n",
       "      <td>1</td>\n",
       "      <td>4195</td>\n",
       "    </tr>\n",
       "    <tr>\n",
       "      <th>124009</th>\n",
       "      <td>1.0</td>\n",
       "      <td>3</td>\n",
       "      <td>2</td>\n",
       "      <td>4280</td>\n",
       "    </tr>\n",
       "  </tbody>\n",
       "</table>\n",
       "<p>48343 rows × 4 columns</p>\n",
       "</div>"
      ],
      "text/plain": [
       "        bathrooms  bedrooms interest_level  price\n",
       "4             1.0         1              1   2400\n",
       "6             1.0         2              0   3800\n",
       "9             1.0         2              1   3495\n",
       "10            1.5         3              1   3000\n",
       "15            1.0         0              0   2795\n",
       "...           ...       ...            ...    ...\n",
       "124000        1.0         3              0   2800\n",
       "124002        1.0         2              1   2395\n",
       "124004        1.0         1              1   1850\n",
       "124008        1.0         2              1   4195\n",
       "124009        1.0         3              2   4280\n",
       "\n",
       "[48343 rows x 4 columns]"
      ]
     },
     "execution_count": 2440,
     "metadata": {},
     "output_type": "execute_result"
    }
   ],
   "source": [
    "pd.set_option(\"future.no_silent_downcasting\", True)\n",
    "filtered_df.loc[:,\"interest_level\"] = filtered_df[\"interest_level\"].replace({\"low\": 0,\"medium\": 1, \"high\": 2}).copy()\n",
    "filtered_df"
   ]
  },
  {
   "cell_type": "markdown",
   "id": "d8549df1",
   "metadata": {},
   "source": [
    "4. Plot histograms for the features 'bathrooms', 'bedrooms'. Are there any outliers?"
   ]
  },
  {
   "cell_type": "code",
   "execution_count": 2441,
   "id": "b01ebbc1",
   "metadata": {},
   "outputs": [
    {
     "data": {
      "image/png": "[encoded data removed]",
      "text/plain": [
       "<Figure size 640x480 with 1 Axes>"
      ]
     },
     "metadata": {},
     "output_type": "display_data"
    }
   ],
   "source": [
    "plt.ticklabel_format(style=\"plain\", axis=\"x\")\n",
    "plt.hist(filtered_df[\"bathrooms\"], edgecolor='black')\n",
    "plt.show()"
   ]
  },
  {
   "cell_type": "code",
   "execution_count": 2442,
   "id": "5b3975ed",
   "metadata": {},
   "outputs": [
    {
     "data": {
      "image/png": "[encoded data removed]",
      "text/plain": [
       "<Figure size 640x480 with 1 Axes>"
      ]
     },
     "metadata": {},
     "output_type": "display_data"
    }
   ],
   "source": [
    "plt.ticklabel_format(style=\"plain\", axis=\"x\")\n",
    "plt.hist(filtered_df[\"bedrooms\"], edgecolor='black')\n",
    "plt.show()"
   ]
  },
  {
   "cell_type": "markdown",
   "id": "b173d378",
   "metadata": {},
   "source": [
    "У спален распредел и ванн не видны явные отклонения"
   ]
  },
  {
   "cell_type": "markdown",
   "id": "4a9ff978",
   "metadata": {},
   "source": [
    "# 5. Complex analysis"
   ]
  },
  {
   "cell_type": "markdown",
   "id": "2dc4b138",
   "metadata": {},
   "source": [
    "1. Plot a correlation matrix to understand the correlation between features and target. Plot a heat map for the correlation matrix. Is there a correlation?"
   ]
  },
  {
   "cell_type": "code",
   "execution_count": 2443,
   "id": "c36d2d7b",
   "metadata": {},
   "outputs": [
    {
     "data": {
      "text/html": [
       "<div>\n",
       "<style scoped>\n",
       "    .dataframe tbody tr th:only-of-type {\n",
       "        vertical-align: middle;\n",
       "    }\n",
       "\n",
       "    .dataframe tbody tr th {\n",
       "        vertical-align: top;\n",
       "    }\n",
       "\n",
       "    .dataframe thead th {\n",
       "        text-align: right;\n",
       "    }\n",
       "</style>\n",
       "<table border=\"1\" class=\"dataframe\">\n",
       "  <thead>\n",
       "    <tr style=\"text-align: right;\">\n",
       "      <th></th>\n",
       "      <th>bathrooms</th>\n",
       "      <th>bedrooms</th>\n",
       "      <th>interest_level</th>\n",
       "      <th>price</th>\n",
       "    </tr>\n",
       "  </thead>\n",
       "  <tbody>\n",
       "    <tr>\n",
       "      <th>bathrooms</th>\n",
       "      <td>1.000000</td>\n",
       "      <td>0.517200</td>\n",
       "      <td>-0.062819</td>\n",
       "      <td>0.670808</td>\n",
       "    </tr>\n",
       "    <tr>\n",
       "      <th>bedrooms</th>\n",
       "      <td>0.517200</td>\n",
       "      <td>1.000000</td>\n",
       "      <td>0.051282</td>\n",
       "      <td>0.547310</td>\n",
       "    </tr>\n",
       "    <tr>\n",
       "      <th>interest_level</th>\n",
       "      <td>-0.062819</td>\n",
       "      <td>0.051282</td>\n",
       "      <td>1.000000</td>\n",
       "      <td>-0.199652</td>\n",
       "    </tr>\n",
       "    <tr>\n",
       "      <th>price</th>\n",
       "      <td>0.670808</td>\n",
       "      <td>0.547310</td>\n",
       "      <td>-0.199652</td>\n",
       "      <td>1.000000</td>\n",
       "    </tr>\n",
       "  </tbody>\n",
       "</table>\n",
       "</div>"
      ],
      "text/plain": [
       "                bathrooms  bedrooms  interest_level     price\n",
       "bathrooms        1.000000  0.517200       -0.062819  0.670808\n",
       "bedrooms         0.517200  1.000000        0.051282  0.547310\n",
       "interest_level  -0.062819  0.051282        1.000000 -0.199652\n",
       "price            0.670808  0.547310       -0.199652  1.000000"
      ]
     },
     "execution_count": 2443,
     "metadata": {},
     "output_type": "execute_result"
    }
   ],
   "source": [
    "correlation_matrix = filtered_df.corr()\n",
    "correlation_matrix"
   ]
  },
  {
   "cell_type": "code",
   "execution_count": 2444,
   "id": "87574719",
   "metadata": {},
   "outputs": [
    {
     "data": {
      "text/plain": [
       "<Axes: >"
      ]
     },
     "execution_count": 2444,
     "metadata": {},
     "output_type": "execute_result"
    },
    {
     "data": {
      "image/png": "[encoded data removed]",
      "text/plain": [
       "<Figure size 640x480 with 2 Axes>"
      ]
     },
     "metadata": {},
     "output_type": "display_data"
    }
   ],
   "source": [
    "sns.heatmap(correlation_matrix)"
   ]
  },
  {
   "cell_type": "markdown",
   "id": "cac7712c",
   "metadata": {},
   "source": [
    "Сильная связь между количеством спален и ванн, а также заметная связь этих признаков с ценой, но очень слабая связь между уровнем интереса и ценой"
   ]
  },
  {
   "cell_type": "markdown",
   "id": "b93ecb30",
   "metadata": {},
   "source": [
    "2. Plot a scatterplot to visualize the correlation between the features and the target. You should return 3 plots where the X-axis is the target and the Y-axis is a feature."
   ]
  },
  {
   "cell_type": "code",
   "execution_count": 2445,
   "id": "e5b7e967",
   "metadata": {},
   "outputs": [
    {
     "data": {
      "image/png": "[encoded data removed]",
      "text/plain": [
       "<Figure size 640x480 with 1 Axes>"
      ]
     },
     "metadata": {},
     "output_type": "display_data"
    }
   ],
   "source": [
    "plt.scatter(filtered_df[\"price\"], filtered_df[\"bathrooms\"], alpha=0.5)\n",
    "plt.xlabel(\"price\")\n",
    "plt.ylabel(\"bathrooms\")\n",
    "plt.show()"
   ]
  },
  {
   "cell_type": "code",
   "execution_count": 2446,
   "id": "6b442dd3",
   "metadata": {},
   "outputs": [
    {
     "data": {
      "image/png": "[encoded data removed]",
      "text/plain": [
       "<Figure size 640x480 with 1 Axes>"
      ]
     },
     "metadata": {},
     "output_type": "display_data"
    }
   ],
   "source": [
    "plt.scatter(filtered_df[\"price\"], filtered_df[\"bedrooms\"], alpha=0.5)\n",
    "plt.xlabel(\"price\")\n",
    "plt.ylabel(\"bedrooms\")\n",
    "plt.show()"
   ]
  },
  {
   "cell_type": "code",
   "execution_count": 2447,
   "id": "50ab7163",
   "metadata": {},
   "outputs": [
    {
     "data": {
      "image/png": "[encoded data removed]",
      "text/plain": [
       "<Figure size 640x480 with 1 Axes>"
      ]
     },
     "metadata": {},
     "output_type": "display_data"
    }
   ],
   "source": [
    "plt.scatter(filtered_df[\"price\"], filtered_df[\"interest_level\"], alpha=0.5)\n",
    "plt.xlabel(\"price\")\n",
    "plt.ylabel(\"interest_level\")\n",
    "plt.show()"
   ]
  },
  {
   "cell_type": "markdown",
   "id": "42081f6c",
   "metadata": {},
   "source": [
    "# 4. Creating Features"
   ]
  },
  {
   "cell_type": "markdown",
   "id": "633f1431",
   "metadata": {},
   "source": [
    "1. This step is very broad. You can create as many features as you want. For example, you can add 3 new features that are squared: 'bathrooms_squared', 'bedrooms_squared', ''interest_level_squared'. Plot a correlation matrix with the new features. Are the new features more correlated with the target than the basic features? "
   ]
  },
  {
   "cell_type": "code",
   "execution_count": 2448,
   "id": "a63f033e",
   "metadata": {},
   "outputs": [
    {
     "data": {
      "text/html": [
       "<div>\n",
       "<style scoped>\n",
       "    .dataframe tbody tr th:only-of-type {\n",
       "        vertical-align: middle;\n",
       "    }\n",
       "\n",
       "    .dataframe tbody tr th {\n",
       "        vertical-align: top;\n",
       "    }\n",
       "\n",
       "    .dataframe thead th {\n",
       "        text-align: right;\n",
       "    }\n",
       "</style>\n",
       "<table border=\"1\" class=\"dataframe\">\n",
       "  <thead>\n",
       "    <tr style=\"text-align: right;\">\n",
       "      <th></th>\n",
       "      <th>bathrooms</th>\n",
       "      <th>bedrooms</th>\n",
       "      <th>interest_level</th>\n",
       "      <th>price</th>\n",
       "      <th>bathrooms_squared</th>\n",
       "      <th>bedrooms_squared</th>\n",
       "      <th>interest_level_squared</th>\n",
       "    </tr>\n",
       "  </thead>\n",
       "  <tbody>\n",
       "    <tr>\n",
       "      <th>4</th>\n",
       "      <td>1.0</td>\n",
       "      <td>1</td>\n",
       "      <td>1</td>\n",
       "      <td>2400</td>\n",
       "      <td>1.00</td>\n",
       "      <td>1</td>\n",
       "      <td>1</td>\n",
       "    </tr>\n",
       "    <tr>\n",
       "      <th>6</th>\n",
       "      <td>1.0</td>\n",
       "      <td>2</td>\n",
       "      <td>0</td>\n",
       "      <td>3800</td>\n",
       "      <td>1.00</td>\n",
       "      <td>4</td>\n",
       "      <td>0</td>\n",
       "    </tr>\n",
       "    <tr>\n",
       "      <th>9</th>\n",
       "      <td>1.0</td>\n",
       "      <td>2</td>\n",
       "      <td>1</td>\n",
       "      <td>3495</td>\n",
       "      <td>1.00</td>\n",
       "      <td>4</td>\n",
       "      <td>1</td>\n",
       "    </tr>\n",
       "    <tr>\n",
       "      <th>10</th>\n",
       "      <td>1.5</td>\n",
       "      <td>3</td>\n",
       "      <td>1</td>\n",
       "      <td>3000</td>\n",
       "      <td>2.25</td>\n",
       "      <td>9</td>\n",
       "      <td>1</td>\n",
       "    </tr>\n",
       "    <tr>\n",
       "      <th>15</th>\n",
       "      <td>1.0</td>\n",
       "      <td>0</td>\n",
       "      <td>0</td>\n",
       "      <td>2795</td>\n",
       "      <td>1.00</td>\n",
       "      <td>0</td>\n",
       "      <td>0</td>\n",
       "    </tr>\n",
       "    <tr>\n",
       "      <th>...</th>\n",
       "      <td>...</td>\n",
       "      <td>...</td>\n",
       "      <td>...</td>\n",
       "      <td>...</td>\n",
       "      <td>...</td>\n",
       "      <td>...</td>\n",
       "      <td>...</td>\n",
       "    </tr>\n",
       "    <tr>\n",
       "      <th>124000</th>\n",
       "      <td>1.0</td>\n",
       "      <td>3</td>\n",
       "      <td>0</td>\n",
       "      <td>2800</td>\n",
       "      <td>1.00</td>\n",
       "      <td>9</td>\n",
       "      <td>0</td>\n",
       "    </tr>\n",
       "    <tr>\n",
       "      <th>124002</th>\n",
       "      <td>1.0</td>\n",
       "      <td>2</td>\n",
       "      <td>1</td>\n",
       "      <td>2395</td>\n",
       "      <td>1.00</td>\n",
       "      <td>4</td>\n",
       "      <td>1</td>\n",
       "    </tr>\n",
       "    <tr>\n",
       "      <th>124004</th>\n",
       "      <td>1.0</td>\n",
       "      <td>1</td>\n",
       "      <td>1</td>\n",
       "      <td>1850</td>\n",
       "      <td>1.00</td>\n",
       "      <td>1</td>\n",
       "      <td>1</td>\n",
       "    </tr>\n",
       "    <tr>\n",
       "      <th>124008</th>\n",
       "      <td>1.0</td>\n",
       "      <td>2</td>\n",
       "      <td>1</td>\n",
       "      <td>4195</td>\n",
       "      <td>1.00</td>\n",
       "      <td>4</td>\n",
       "      <td>1</td>\n",
       "    </tr>\n",
       "    <tr>\n",
       "      <th>124009</th>\n",
       "      <td>1.0</td>\n",
       "      <td>3</td>\n",
       "      <td>2</td>\n",
       "      <td>4280</td>\n",
       "      <td>1.00</td>\n",
       "      <td>9</td>\n",
       "      <td>4</td>\n",
       "    </tr>\n",
       "  </tbody>\n",
       "</table>\n",
       "<p>48343 rows × 7 columns</p>\n",
       "</div>"
      ],
      "text/plain": [
       "        bathrooms  bedrooms interest_level  price  bathrooms_squared  \\\n",
       "4             1.0         1              1   2400               1.00   \n",
       "6             1.0         2              0   3800               1.00   \n",
       "9             1.0         2              1   3495               1.00   \n",
       "10            1.5         3              1   3000               2.25   \n",
       "15            1.0         0              0   2795               1.00   \n",
       "...           ...       ...            ...    ...                ...   \n",
       "124000        1.0         3              0   2800               1.00   \n",
       "124002        1.0         2              1   2395               1.00   \n",
       "124004        1.0         1              1   1850               1.00   \n",
       "124008        1.0         2              1   4195               1.00   \n",
       "124009        1.0         3              2   4280               1.00   \n",
       "\n",
       "        bedrooms_squared interest_level_squared  \n",
       "4                      1                      1  \n",
       "6                      4                      0  \n",
       "9                      4                      1  \n",
       "10                     9                      1  \n",
       "15                     0                      0  \n",
       "...                  ...                    ...  \n",
       "124000                 9                      0  \n",
       "124002                 4                      1  \n",
       "124004                 1                      1  \n",
       "124008                 4                      1  \n",
       "124009                 9                      4  \n",
       "\n",
       "[48343 rows x 7 columns]"
      ]
     },
     "execution_count": 2448,
     "metadata": {},
     "output_type": "execute_result"
    }
   ],
   "source": [
    "df_squared = filtered_df.copy()\n",
    "df_squared[\"bathrooms_squared\"] = df_squared[\"bathrooms\"] ** 2\n",
    "df_squared[\"bedrooms_squared\"] = df_squared[\"bedrooms\"] ** 2\n",
    "df_squared[\"interest_level_squared\"] = df_squared[\"interest_level\"] ** 2\n",
    "df_squared"
   ]
  },
  {
   "cell_type": "code",
   "execution_count": 2449,
   "id": "f637ad2b",
   "metadata": {},
   "outputs": [
    {
     "data": {
      "text/html": [
       "<div>\n",
       "<style scoped>\n",
       "    .dataframe tbody tr th:only-of-type {\n",
       "        vertical-align: middle;\n",
       "    }\n",
       "\n",
       "    .dataframe tbody tr th {\n",
       "        vertical-align: top;\n",
       "    }\n",
       "\n",
       "    .dataframe thead th {\n",
       "        text-align: right;\n",
       "    }\n",
       "</style>\n",
       "<table border=\"1\" class=\"dataframe\">\n",
       "  <thead>\n",
       "    <tr style=\"text-align: right;\">\n",
       "      <th></th>\n",
       "      <th>bathrooms</th>\n",
       "      <th>bedrooms</th>\n",
       "      <th>interest_level</th>\n",
       "      <th>price</th>\n",
       "      <th>bathrooms_squared</th>\n",
       "      <th>bedrooms_squared</th>\n",
       "      <th>interest_level_squared</th>\n",
       "    </tr>\n",
       "  </thead>\n",
       "  <tbody>\n",
       "    <tr>\n",
       "      <th>bathrooms</th>\n",
       "      <td>1.000000</td>\n",
       "      <td>0.517200</td>\n",
       "      <td>-0.062819</td>\n",
       "      <td>0.670808</td>\n",
       "      <td>0.955906</td>\n",
       "      <td>0.548426</td>\n",
       "      <td>-0.058710</td>\n",
       "    </tr>\n",
       "    <tr>\n",
       "      <th>bedrooms</th>\n",
       "      <td>0.517200</td>\n",
       "      <td>1.000000</td>\n",
       "      <td>0.051282</td>\n",
       "      <td>0.547310</td>\n",
       "      <td>0.478497</td>\n",
       "      <td>0.928282</td>\n",
       "      <td>0.040125</td>\n",
       "    </tr>\n",
       "    <tr>\n",
       "      <th>interest_level</th>\n",
       "      <td>-0.062819</td>\n",
       "      <td>0.051282</td>\n",
       "      <td>1.000000</td>\n",
       "      <td>-0.199652</td>\n",
       "      <td>-0.067757</td>\n",
       "      <td>0.047048</td>\n",
       "      <td>0.943959</td>\n",
       "    </tr>\n",
       "    <tr>\n",
       "      <th>price</th>\n",
       "      <td>0.670808</td>\n",
       "      <td>0.547310</td>\n",
       "      <td>-0.199652</td>\n",
       "      <td>1.000000</td>\n",
       "      <td>0.646949</td>\n",
       "      <td>0.544612</td>\n",
       "      <td>-0.182283</td>\n",
       "    </tr>\n",
       "    <tr>\n",
       "      <th>bathrooms_squared</th>\n",
       "      <td>0.955906</td>\n",
       "      <td>0.478497</td>\n",
       "      <td>-0.067757</td>\n",
       "      <td>0.646949</td>\n",
       "      <td>1.000000</td>\n",
       "      <td>0.521951</td>\n",
       "      <td>-0.061563</td>\n",
       "    </tr>\n",
       "    <tr>\n",
       "      <th>bedrooms_squared</th>\n",
       "      <td>0.548426</td>\n",
       "      <td>0.928282</td>\n",
       "      <td>0.047048</td>\n",
       "      <td>0.544612</td>\n",
       "      <td>0.521951</td>\n",
       "      <td>1.000000</td>\n",
       "      <td>0.036408</td>\n",
       "    </tr>\n",
       "    <tr>\n",
       "      <th>interest_level_squared</th>\n",
       "      <td>-0.058710</td>\n",
       "      <td>0.040125</td>\n",
       "      <td>0.943959</td>\n",
       "      <td>-0.182283</td>\n",
       "      <td>-0.061563</td>\n",
       "      <td>0.036408</td>\n",
       "      <td>1.000000</td>\n",
       "    </tr>\n",
       "  </tbody>\n",
       "</table>\n",
       "</div>"
      ],
      "text/plain": [
       "                        bathrooms  bedrooms  interest_level     price  \\\n",
       "bathrooms                1.000000  0.517200       -0.062819  0.670808   \n",
       "bedrooms                 0.517200  1.000000        0.051282  0.547310   \n",
       "interest_level          -0.062819  0.051282        1.000000 -0.199652   \n",
       "price                    0.670808  0.547310       -0.199652  1.000000   \n",
       "bathrooms_squared        0.955906  0.478497       -0.067757  0.646949   \n",
       "bedrooms_squared         0.548426  0.928282        0.047048  0.544612   \n",
       "interest_level_squared  -0.058710  0.040125        0.943959 -0.182283   \n",
       "\n",
       "                        bathrooms_squared  bedrooms_squared  \\\n",
       "bathrooms                        0.955906          0.548426   \n",
       "bedrooms                         0.478497          0.928282   \n",
       "interest_level                  -0.067757          0.047048   \n",
       "price                            0.646949          0.544612   \n",
       "bathrooms_squared                1.000000          0.521951   \n",
       "bedrooms_squared                 0.521951          1.000000   \n",
       "interest_level_squared          -0.061563          0.036408   \n",
       "\n",
       "                        interest_level_squared  \n",
       "bathrooms                            -0.058710  \n",
       "bedrooms                              0.040125  \n",
       "interest_level                        0.943959  \n",
       "price                                -0.182283  \n",
       "bathrooms_squared                    -0.061563  \n",
       "bedrooms_squared                      0.036408  \n",
       "interest_level_squared                1.000000  "
      ]
     },
     "execution_count": 2449,
     "metadata": {},
     "output_type": "execute_result"
    }
   ],
   "source": [
    "correlation_matrix = df_squared.corr()\n",
    "correlation_matrix"
   ]
  },
  {
   "cell_type": "markdown",
   "id": "95df3924",
   "metadata": {},
   "source": [
    "Значения корреляции новых признаков немного уменьшились, а значит новые функции не соответствуют поставленной цели в большей степени, чем базовые признаки"
   ]
  },
  {
   "cell_type": "markdown",
   "id": "4a0def54",
   "metadata": {},
   "source": [
    "2. To train the model here, we will not use your new features. Remember this example and use it in Lecture 2. To train the model, we will only consider the features 'bathrooms' and 'bedrooms'.\n",
    "3. Read this [Sklearn info about PolynomialFeatures](https://scikit-learn.org/stable/modules/generated/sklearn.preprocessing.PolynomialFeatures.html).\n",
    "4. To use PolynomialFeatures, we first need to split the data into training and test samples. We have already done this for you, please read the training and test data. "
   ]
  },
  {
   "cell_type": "code",
   "execution_count": 2450,
   "id": "51af7b10",
   "metadata": {},
   "outputs": [],
   "source": [
    "train_df = filtered_df.copy()\n",
    "train_df.drop(\"interest_level\", axis=1, inplace=True)\n",
    "test_df = pd.read_json(\"data/test.json\")\n",
    "test_df = test_df[[\"bathrooms\", \"bedrooms\", \"price\"]]"
   ]
  },
  {
   "cell_type": "code",
   "execution_count": 2451,
   "id": "e8b5888e",
   "metadata": {},
   "outputs": [
    {
     "data": {
      "image/png": "[encoded data removed]",
      "text/plain": [
       "<Figure size 640x480 with 1 Axes>"
      ]
     },
     "metadata": {},
     "output_type": "display_data"
    },
    {
     "data": {
      "image/png": "[encoded data removed]",
      "text/plain": [
       "<Figure size 640x480 with 1 Axes>"
      ]
     },
     "metadata": {},
     "output_type": "display_data"
    }
   ],
   "source": [
    "plt.hist(test_df, edgecolor=\"black\")\n",
    "plt.show()\n",
    "\n",
    "percentile_1 = test_df[\"price\"].quantile(0.01)\n",
    "percentile_9 = test_df[\"price\"].quantile(0.99)\n",
    "test_df = test_df[(test_df[\"price\"] > percentile_1) & (test_df[\"price\"] < percentile_9)].copy()\n",
    "\n",
    "test_df = test_df[(test_df[\"bathrooms\"] < 7) & (test_df[\"bathrooms\"] > 1)]\n",
    "\n",
    "percentile_1 = test_df[\"bedrooms\"].quantile(0.01)\n",
    "percentile_9 = test_df[\"bedrooms\"].quantile(0.99)\n",
    "test_df = test_df[(test_df[\"bedrooms\"] > percentile_1) & (test_df[\"bedrooms\"] < percentile_9)].copy()\n",
    "\n",
    "plt.hist(test_df, edgecolor=\"black\")\n",
    "plt.show()"
   ]
  },
  {
   "cell_type": "markdown",
   "id": "da78681f",
   "metadata": {},
   "source": [
    "5. Initialize PolynomialFeatures() with a degree of 10. "
   ]
  },
  {
   "cell_type": "code",
   "execution_count": 2452,
   "id": "ddff7e7d",
   "metadata": {},
   "outputs": [],
   "source": [
    "poly = PolynomialFeatures(degree=10)"
   ]
  },
  {
   "cell_type": "markdown",
   "id": "73d43ee8",
   "metadata": {},
   "source": [
    "6. Apply PolynomialFeatures() to fit and transform your training and test data."
   ]
  },
  {
   "cell_type": "code",
   "execution_count": 2453,
   "id": "aecbf2e2",
   "metadata": {},
   "outputs": [],
   "source": [
    "x_train = train_df[[\"bedrooms\", \"bathrooms\"]]\n",
    "x_test = test_df[[\"bedrooms\", \"bathrooms\"]]\n",
    "y_train = train_df[\"price\"]\n",
    "y_test = test_df[\"price\"]\n",
    "\n",
    "x_poly_train = poly.fit_transform(x_train)\n",
    "x_poly_test = poly.fit_transform(x_test)"
   ]
  },
  {
   "cell_type": "markdown",
   "id": "18da430f",
   "metadata": {},
   "source": [
    "# 5. Now you need to train 3 models: linear regression, decision tree and naive model. We will use them as black boxes without deep understanding."
   ]
  },
  {
   "cell_type": "code",
   "execution_count": 2454,
   "id": "0b37b0d5",
   "metadata": {},
   "outputs": [],
   "source": [
    "dummy_model = DummyRegressor()"
   ]
  },
  {
   "cell_type": "markdown",
   "id": "4f4e2570",
   "metadata": {},
   "source": [
    "1. Results table \n",
    "      1. Create two empty Pandas DataFrames with columns 'model', 'train', 'test'. Let's call the first one result_MAE and the second one result_RMSE. We will fill these tables with the results of the models."
   ]
  },
  {
   "cell_type": "code",
   "execution_count": 2455,
   "id": "4c58a647",
   "metadata": {},
   "outputs": [],
   "source": [
    "result_MAE = pd.DataFrame({\n",
    "    \"model\": pd.Series(dtype=\"object\"),\n",
    "    \"train\": pd.Series(dtype=\"float\"),\n",
    "    \"test\":  pd.Series(dtype=\"float\")\n",
    "})\n",
    "\n",
    "result_RMSE = pd.DataFrame({\n",
    "    \"model\": pd.Series(dtype=\"object\"),\n",
    "    \"train\": pd.Series(dtype=\"float\"),\n",
    "    \"test\":  pd.Series(dtype=\"float\")\n",
    "})"
   ]
  },
  {
   "cell_type": "markdown",
   "id": "16f85d42",
   "metadata": {},
   "source": [
    "2. Linear Regression \n",
    "      1. Initialize linear regression from **sklearn** with no parameters. \n",
    "      2. Fit your model and make predictions on training and test features. Save it as new columns in data.\n",
    "      3. Compute MAE (Mean Absolute Error) on training and test targets.\n",
    "      4. Calculate RMSE (Root Mean Square Error) on training and test objectives.\n",
    "      5. Insert your metrics into tables *result_MAE* and *result_RMSE* with model name 'linear_regression'."
   ]
  },
  {
   "cell_type": "code",
   "execution_count": 2456,
   "id": "ab2bee18",
   "metadata": {},
   "outputs": [
    {
     "name": "stdout",
     "output_type": "stream",
     "text": [
      "               model       train         test\n",
      "0  linear_regression  753.679393  1328.607416\n",
      "               model        train         test\n",
      "0  linear_regression  1070.669027  8854.928226\n"
     ]
    }
   ],
   "source": [
    "model_linear = LinearRegression()\n",
    "model_linear.fit(x_poly_train, y_train)\n",
    "y_train_pred = model_linear.predict(x_poly_train)\n",
    "y_test_pred = model_linear.predict(x_poly_test)\n",
    "\n",
    "train_df[\"y_train_pred_linear\"] = y_train_pred\n",
    "test_df[\"y_test_pred_linear\"] = y_test_pred\n",
    "\n",
    "mae_train = mean_absolute_error(y_train, y_train_pred)\n",
    "mae_test = mean_absolute_error(y_test, y_test_pred)\n",
    "rmse_train = np.sqrt(mean_squared_error(y_train, y_train_pred))\n",
    "rmse_test = np.sqrt(mean_squared_error(y_test, y_test_pred))\n",
    "\n",
    "result_MAE = pd.concat(\n",
    "    [result_MAE, pd.DataFrame([{\"model\": \"linear_regression\", \"train\": mae_train, \"test\": mae_test}])],\n",
    "    ignore_index=True\n",
    ")\n",
    "result_RMSE = pd.concat(\n",
    "    [result_RMSE, pd.DataFrame([{\"model\": \"linear_regression\", \"train\": rmse_train, \"test\": rmse_test}])],\n",
    "    ignore_index=True\n",
    ")\n",
    "\n",
    "print(result_MAE)\n",
    "print(result_RMSE)"
   ]
  },
  {
   "cell_type": "markdown",
   "id": "6cc9cd17",
   "metadata": {},
   "source": [
    "   3. Decision Tree\n",
    "      1. Initialize decision tree regressor from sklearn with fixed random_state=21.\n",
    "      2. Fit it to train features and train target and make prediction on train and test features. Save it as a new column in data. \n",
    "      3. Compute MAE (Mean Absolute Error) on train and test targets.\n",
    "      4. Compute RMSE (Root Mean Square Error) on train and test targets.\n",
    "      5. Insert your metrics into tables *result_MAE* and *result_RMSE* with model name 'decision_tree'."
   ]
  },
  {
   "cell_type": "code",
   "execution_count": 2457,
   "id": "6d176d3a",
   "metadata": {},
   "outputs": [
    {
     "name": "stdout",
     "output_type": "stream",
     "text": [
      "               model       train         test\n",
      "0  linear_regression  753.679393  1328.607416\n",
      "1      decision_tree  753.675997  1249.272817\n",
      "               model        train         test\n",
      "0  linear_regression  1070.669027  8854.928226\n",
      "1      decision_tree  1070.598967  1683.215440\n"
     ]
    }
   ],
   "source": [
    "model_tree = DecisionTreeRegressor(random_state=21)\n",
    "model_tree.fit(x_poly_train, y_train)\n",
    "y_train_pred = model_tree.predict(x_poly_train)\n",
    "y_test_pred = model_tree.predict(x_poly_test)\n",
    "\n",
    "train_df[\"y_train_pred_tree\"] = y_train_pred\n",
    "test_df[\"y_test_pred_tree\"] = y_test_pred\n",
    "\n",
    "mae_train = mean_absolute_error(y_train, y_train_pred)\n",
    "mae_test = mean_absolute_error(y_test, y_test_pred)\n",
    "rmse_train = np.sqrt(mean_squared_error(y_train, y_train_pred))\n",
    "rmse_test = np.sqrt(mean_squared_error(y_test, y_test_pred))\n",
    "\n",
    "result_MAE = pd.concat(\n",
    "    [result_MAE, pd.DataFrame([{\"model\": \"decision_tree\", \"train\": mae_train, \"test\": mae_test}])],\n",
    "    ignore_index=True\n",
    ")\n",
    "result_RMSE = pd.concat(\n",
    "    [result_RMSE, pd.DataFrame([{\"model\": \"decision_tree\", \"train\": rmse_train, \"test\": rmse_test}])],\n",
    "    ignore_index=True\n",
    ")\n",
    "\n",
    "print(result_MAE)\n",
    "print(result_RMSE)"
   ]
  },
  {
   "cell_type": "markdown",
   "id": "28dab388",
   "metadata": {},
   "source": [
    "   4. Naive Models\n",
    "      1. Calculate the mean and median of 'price' on the training and test data and create a column with these values. \n",
    "      2. Calculate the MAE on the training and test targets between your target and the calculated mean and median. \n",
    "      3. Calculate the RMSE on the training and test targets between your target and the calculated mean and median. \n",
    "      4. Insert your metrics into tables result_MAE and result_RMSE with model names 'naive_mean' and 'naive_median'."
   ]
  },
  {
   "cell_type": "code",
   "execution_count": 2458,
   "id": "5f134bb9",
   "metadata": {},
   "outputs": [],
   "source": [
    "train_mean = train_df[\"price\"].mean()\n",
    "test_mean = test_df[\"price\"].mean()\n",
    "train_median = train_df[\"price\"].median()\n",
    "test_median = test_df[\"price\"].median()\n",
    "\n",
    "train_df[\"train_mean\"] = train_mean\n",
    "test_df[\"test_mean\"] = test_mean\n",
    "train_df[\"train_median\"] = train_median\n",
    "test_df[\"test_median\"] = test_median\n",
    "\n",
    "mae_train = mean_absolute_error(train_df[\"price\"], train_df[\"train_mean\"])\n",
    "mae_test = mean_absolute_error(test_df[\"price\"], test_df[\"test_mean\"])\n",
    "rmse_train = np.sqrt(mean_squared_error(train_df[\"price\"], train_df[\"train_median\"]))\n",
    "rmse_test = np.sqrt(mean_squared_error(test_df[\"price\"], test_df[\"test_median\"]))\n",
    "\n",
    "result_MAE = pd.concat(\n",
    "    [result_MAE, pd.DataFrame([{\"model\": \"naive_mean\", \"train\": mae_train, \"test\": mae_test}])],\n",
    "    ignore_index=True\n",
    ")\n",
    "result_RMSE = pd.concat(\n",
    "    [result_RMSE, pd.DataFrame([{\"model\": \"naive_mean\", \"train\": rmse_train, \"test\": rmse_test}])],\n",
    "    ignore_index=True\n",
    ")\n",
    "result_MAE = pd.concat(\n",
    "    [result_MAE, pd.DataFrame([{\"model\": \"naive_median\", \"train\": mae_train, \"test\": mae_test}])],\n",
    "    ignore_index=True\n",
    ")\n",
    "result_RMSE = pd.concat(\n",
    "    [result_RMSE, pd.DataFrame([{\"model\": \"naive_median\", \"train\": rmse_train, \"test\": rmse_test}])],\n",
    "    ignore_index=True\n",
    ")"
   ]
  },
  {
   "cell_type": "markdown",
   "id": "5a421c35",
   "metadata": {},
   "source": [
    "# 5. Compare the results "
   ]
  },
  {
   "cell_type": "markdown",
   "id": "0bf71ec5",
   "metadata": {},
   "source": [
    "1. Print your final result_MAE and result_RMSE tables. \n",
    "2. Which is the best model?"
   ]
  },
  {
   "cell_type": "code",
   "execution_count": 2459,
   "id": "81186788",
   "metadata": {},
   "outputs": [
    {
     "name": "stdout",
     "output_type": "stream",
     "text": [
      "               model        train         test\n",
      "0  linear_regression   753.679393  1328.607416\n",
      "1      decision_tree   753.675997  1249.272817\n",
      "2         naive_mean  1134.361473  1453.251543\n",
      "3       naive_median  1134.361473  1453.251543\n",
      "               model        train         test\n",
      "0  linear_regression  1070.669027  8854.928226\n",
      "1      decision_tree  1070.598967  1683.215440\n",
      "2         naive_mean  1631.719953  1986.903723\n",
      "3       naive_median  1631.719953  1986.903723\n"
     ]
    }
   ],
   "source": [
    "print(result_MAE)\n",
    "print(result_RMSE)"
   ]
  },
  {
   "cell_type": "markdown",
   "id": "3a24a32c",
   "metadata": {},
   "source": [
    "The best model is decision_tree"
   ]
  }
 ],
 "metadata": {
  "kernelspec": {
   "display_name": "nilahugh",
   "language": "python",
   "name": "python3"
  },
  "language_info": {
   "codemirror_mode": {
    "name": "ipython",
    "version": 3
   },
   "file_extension": ".py",
   "mimetype": "text/x-python",
   "name": "python",
   "nbconvert_exporter": "python",
   "pygments_lexer": "ipython3",
   "version": "3.12.3"
  }
 },
 "nbformat": 4,
 "nbformat_minor": 5
}
